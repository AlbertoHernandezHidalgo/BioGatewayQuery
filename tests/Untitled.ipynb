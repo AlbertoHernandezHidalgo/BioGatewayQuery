{
 "cells": [
  {
   "cell_type": "code",
   "execution_count": null,
   "id": "4c0e01dc-153d-415f-a741-27626867911b",
   "metadata": {},
   "outputs": [],
   "source": [
    "from BioGatewayQuery import getGene"
   ]
  }
 ],
 "metadata": {
  "kernelspec": {
   "display_name": "Python3.8",
   "language": "python",
   "name": "python3.8"
  },
  "language_info": {
   "codemirror_mode": {
    "name": "ipython",
    "version": 3
   },
   "file_extension": ".py",
   "mimetype": "text/x-python",
   "name": "python",
   "nbconvert_exporter": "python",
   "pygments_lexer": "ipython3",
   "version": "3.8.3"
  }
 },
 "nbformat": 4,
 "nbformat_minor": 5
}
