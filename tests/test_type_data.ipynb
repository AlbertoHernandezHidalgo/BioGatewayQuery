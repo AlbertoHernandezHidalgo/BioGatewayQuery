{
 "cells": [
  {
   "cell_type": "code",
   "execution_count": 1,
   "id": "746b7e9b-f1a4-4366-8b5a-8045b1d31814",
   "metadata": {},
   "outputs": [],
   "source": [
    "from BioGatewayQuery import type_data"
   ]
  },
  {
   "cell_type": "code",
   "execution_count": 2,
   "id": "86f38fb9-6677-4406-9b24-f53c16b56b4e",
   "metadata": {},
   "outputs": [],
   "source": [
    "assert type_data(\"INSR_HUMAN\")== \"protein\", \"INSR_HUMAN should be a protein\"\n",
    "assert type_data(\"INSR\")== \"gene\", \"INSR should be a gene\"\n",
    "assert type_data(\"crm/CRMHS00000003514\")== \"cis_regulatory_module (crm)\", \"crm/CRMHS00000003515 should be a crm\"\n",
    "assert type_data(\"tad/TADHS00000020654\")== \"topologically_associated_domain (tad)\", \"tad/TADHS00000020654 should be a tad\"\n",
    "assert type_data(\"GO:0034703\")== \"cellular_component\", \"GO:0034703 should be a cellular_component\"\n",
    "assert type_data(\"GO:0043524\")== \"biological_process\", \"GO:0043524 should be a biological_process\"\n",
    "assert type_data(\"GO:0003723\")== \"molecular_function\", \"GO:0003723 should be a molecular_function\"\n",
    "assert type_data(\"Wordl\")== 'No data available for this instance', \"World should be 'No data available for this instance'\""
   ]
  },
  {
   "cell_type": "code",
   "execution_count": 3,
   "id": "70cc53e5-d3e0-423c-95dc-fa613c3292d7",
   "metadata": {},
   "outputs": [
    {
     "data": {
      "text/plain": [
       "'gene'"
      ]
     },
     "execution_count": 3,
     "metadata": {},
     "output_type": "execute_result"
    }
   ],
   "source": [
    "type_data(\"INSR\")"
   ]
  },
  {
   "cell_type": "code",
   "execution_count": 4,
   "id": "abfc3ee7-fbb6-4c40-955c-f25bb0616d6b",
   "metadata": {},
   "outputs": [
    {
     "data": {
      "text/plain": [
       "'No data available for this instance'"
      ]
     },
     "execution_count": 4,
     "metadata": {},
     "output_type": "execute_result"
    }
   ],
   "source": [
    "type_data(\"WORDL\")"
   ]
  }
 ],
 "metadata": {
  "kernelspec": {
   "display_name": "Python3.8",
   "language": "python",
   "name": "python3.8"
  },
  "language_info": {
   "codemirror_mode": {
    "name": "ipython",
    "version": 3
   },
   "file_extension": ".py",
   "mimetype": "text/x-python",
   "name": "python",
   "nbconvert_exporter": "python",
   "pygments_lexer": "ipython3",
   "version": "3.8.3"
  }
 },
 "nbformat": 4,
 "nbformat_minor": 5
}
