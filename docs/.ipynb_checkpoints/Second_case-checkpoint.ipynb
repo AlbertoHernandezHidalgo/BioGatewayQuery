{
 "cells": [
  {
   "cell_type": "code",
   "execution_count": 12,
   "id": "edc67e07-419d-4595-91c0-c2213b0f4a84",
   "metadata": {},
   "outputs": [],
   "source": [
    "from PyBioGateway import getPhenotype, phen2gene, gene2protein, prot2bp, gene2crm, phen2crm"
   ]
  },
  {
   "cell_type": "markdown",
   "id": "979cbcd7-cfb6-43c4-8534-2bb5bd9d602b",
   "metadata": {},
   "source": [
    "In this second example, we will analyse the regulatory network that might be related to a specific phenotype, in this case, breast cancer. First, we will identify which phenotypes are under study, since they contain \"breast cancer\" in their name. For this purpose, we will use the getPhenotype function.\n"
   ]
  },
  {
   "cell_type": "code",
   "execution_count": 2,
   "id": "d96b7068-c25b-449b-9537-b8f963420c71",
   "metadata": {},
   "outputs": [
    {
     "data": {
      "text/plain": [
       "75"
      ]
     },
     "execution_count": 2,
     "metadata": {},
     "output_type": "execute_result"
    }
   ],
   "source": [
    "bc_phenotypes=getPhenotype(\"breast cancer\")\n",
    "len(bc_phenotypes)\n"
   ]
  },
  {
   "cell_type": "markdown",
   "id": "12352e58-62ae-4d01-986a-3d23da80e825",
   "metadata": {},
   "source": [
    "There are a total of 75 phenotypes that include breast cancer in their names. Now, we will find out which genes are involved with these phenotypes and all the proteins coded by these genes. Additionally, we will identify all biological processes that these proteins are involved in."
   ]
  },
  {
   "cell_type": "markdown",
   "id": "92a54b01-7bc5-477e-8977-f004f29f085e",
   "metadata": {},
   "source": [
    "First we are going to get genes related with every phenotype, using phen2gene function."
   ]
  },
  {
   "cell_type": "code",
   "execution_count": 4,
   "id": "bc419b57-81c3-43c7-bafa-c1d9771a47aa",
   "metadata": {},
   "outputs": [
    {
     "name": "stdout",
     "output_type": "stream",
     "text": [
      "omim_id: 137215\n",
      "[{'gene_name': 'CDH1'}]\n",
      "omim_id: 114480\n",
      "[{'gene_name': 'NBN'}, {'gene_name': 'ABRAXAS1'}, {'gene_name': 'AKT1'}, {'gene_name': 'BRCA1'}, {'gene_name': 'BRCA2'}, {'gene_name': 'BRIP1'}, {'gene_name': 'CHEK2'}, {'gene_name': 'PALB2'}, {'gene_name': 'PIK3CA'}, {'gene_name': 'RAD51'}]\n",
      "omim_id: 114480\n",
      "[{'gene_name': 'NBN'}, {'gene_name': 'ABRAXAS1'}, {'gene_name': 'AKT1'}, {'gene_name': 'BRCA1'}, {'gene_name': 'BRCA2'}, {'gene_name': 'BRIP1'}, {'gene_name': 'CHEK2'}, {'gene_name': 'PALB2'}, {'gene_name': 'PIK3CA'}, {'gene_name': 'RAD51'}]\n",
      "omim_id: 114480\n",
      "[{'gene_name': 'NBN'}, {'gene_name': 'ABRAXAS1'}, {'gene_name': 'AKT1'}, {'gene_name': 'BRCA1'}, {'gene_name': 'BRCA2'}, {'gene_name': 'BRIP1'}, {'gene_name': 'CHEK2'}, {'gene_name': 'PALB2'}, {'gene_name': 'PIK3CA'}, {'gene_name': 'RAD51'}]\n",
      "omim_id: 137215\n",
      "[{'gene_name': 'CDH1'}]\n",
      "omim_id: 137215\n",
      "[{'gene_name': 'CDH1'}]\n",
      "omim_id: 312300\n",
      "[{'gene_name': 'AR'}]\n",
      "omim_id: 604370\n",
      "[{'gene_name': 'BRCA1'}]\n",
      "omim_id: 613399\n",
      "[{'gene_name': 'RAD51C'}]\n",
      "Genes related with breast cancer {'NBN', 'CDH1', 'CHEK2', 'BRCA2', 'PALB2', 'BRIP1', 'AR', 'RAD51C', 'ABRAXAS1', 'PIK3CA', 'AKT1', 'BRCA1', 'RAD51'}\n"
     ]
    }
   ],
   "source": [
    "gene_results=[]\n",
    "for phen in bc_phenotypes:\n",
    "    omim_id=phen[\"omim_id\"]\n",
    "    gene_bc=phen2gene(omim_id)\n",
    "    if gene_bc != 'No data available for the introduced phenotype or you may have introduced an instance that is not a phenotype. Check your data type with type_data function.':\n",
    "        gene_results.append(gene_bc)\n",
    "        print(\"omim_id:\", omim_id)\n",
    "        print(gene_bc)\n",
    "unique_gene=set()\n",
    "for gene in gene_results:\n",
    "     for gene_dict in gene:\n",
    "        gene_id = gene_dict['gene_name']\n",
    "        unique_gene.add(gene_id)\n",
    "print(\"Genes related with breast cancer\", unique_gene)\n"
   ]
  },
  {
   "cell_type": "markdown",
   "id": "0fd5d703-7e24-48cb-a262-c766ed0fd5d3",
   "metadata": {},
   "source": [
    "Genes related with breast cancer are 'AKT1', 'PALB2', 'RAD51', 'NBN', 'PIK3CA', 'BRIP1', 'CHEK2', 'CDH1', 'BRCA1', 'AR', 'BRCA2', 'RAD51C' and 'ABRAXAS1', now we will get proteins that are encoded by these genes whit gene2prot function:"
   ]
  },
  {
   "cell_type": "code",
   "execution_count": 37,
   "id": "cd08120e-802a-40e5-97f1-e66b479ed0c5",
   "metadata": {},
   "outputs": [
    {
     "name": "stdout",
     "output_type": "stream",
     "text": [
      "gene_id:  AKT1\n",
      "[{'prot_name': 'A0A087WY56_HUMAN'}, {'prot_name': 'A0A804HJM6_HUMAN'}, {'prot_name': 'G3V2I6_HUMAN'}, {'prot_name': 'G3V3X1_HUMAN'}, {'prot_name': 'AKT1_HUMAN'}]\n",
      "gene_id:  PALB2\n",
      "[{'prot_name': 'A0A8V8TKZ4_HUMAN'}, {'prot_name': 'A0A8V8TLC8_HUMAN'}, {'prot_name': 'A0A8V8TMC9_HUMAN'}, {'prot_name': 'A0A8V8TMK8_HUMAN'}, {'prot_name': 'H3BN63_HUMAN'}, {'prot_name': 'I3L1Z5_HUMAN'}, {'prot_name': 'I3L2S5_HUMAN'}, {'prot_name': 'PALB2_HUMAN'}]\n",
      "gene_id:  RAD51\n",
      "[{'prot_name': 'E9PI54_HUMAN'}, {'prot_name': 'E9PJ30_HUMAN'}, {'prot_name': 'E9PNT5_HUMAN'}, {'prot_name': 'H0YD61_HUMAN'}, {'prot_name': 'RAD51_HUMAN'}, {'prot_name': 'Q9NZG9_HUMAN'}]\n",
      "gene_id:  NBN\n",
      "[{'prot_name': 'A0A087X1V5_HUMAN'}, {'prot_name': 'A0A0C4DG07_HUMAN'}, {'prot_name': 'A0A8V8TKV9_HUMAN'}, {'prot_name': 'A0A8V8TKW6_HUMAN'}, {'prot_name': 'A0A8V8TKY0_HUMAN'}, {'prot_name': 'A0A8V8TKY5_HUMAN'}, {'prot_name': 'A0A8V8TL91_HUMAN'}, {'prot_name': 'A0A8V8TL95_HUMAN'}, {'prot_name': 'A0A8V8TL98_HUMAN'}, {'prot_name': 'A0A8V8TLA3_HUMAN'}, {'prot_name': 'A0A8V8TM80_HUMAN'}, {'prot_name': 'A0A8V8TM88_HUMAN'}, {'prot_name': 'A0A8V8TM94_HUMAN'}, {'prot_name': 'A0A8V8TMG0_HUMAN'}, {'prot_name': 'A0A8V8TMG6_HUMAN'}, {'prot_name': 'A0A8V8TMH1_HUMAN'}, {'prot_name': 'A0A8V8TMH6_HUMAN'}, {'prot_name': 'E2QRP0_HUMAN'}, {'prot_name': 'E5RGR7_HUMAN'}, {'prot_name': 'E5RGU1_HUMAN'}, {'prot_name': 'NBN_HUMAN'}]\n",
      "gene_id:  PIK3CA\n",
      "[{'prot_name': 'A0A2R8Y2F6_HUMAN'}, {'prot_name': 'A0A6Q8PGN9_HUMAN'}, {'prot_name': 'A0A6Q8PGV1_HUMAN'}, {'prot_name': 'C9J951_HUMAN'}, {'prot_name': 'C9JAM9_HUMAN'}, {'prot_name': 'PK3CA_HUMAN'}]\n",
      "gene_id:  BRIP1\n",
      "[{'prot_name': 'A0A804HHV8_HUMAN'}, {'prot_name': 'A0A804HIH9_HUMAN'}, {'prot_name': 'A0A804HIR6_HUMAN'}, {'prot_name': 'A0A804HJU1_HUMAN'}, {'prot_name': 'A0A804HJV4_HUMAN'}, {'prot_name': 'A0A804HJY1_HUMAN'}, {'prot_name': 'A0A804HK62_HUMAN'}, {'prot_name': 'A0A804HKK6_HUMAN'}, {'prot_name': 'A0A804HKS0_HUMAN'}, {'prot_name': 'A0A804HL36_HUMAN'}, {'prot_name': 'A0A804HLF1_HUMAN'}, {'prot_name': 'J3KS24_HUMAN'}, {'prot_name': 'J3QKX0_HUMAN'}, {'prot_name': 'J3QQP5_HUMAN'}, {'prot_name': 'FANCJ_HUMAN'}]\n",
      "gene_id:  CHEK2\n",
      "[{'prot_name': 'A0A087X102_HUMAN'}, {'prot_name': 'A0A3B3ITA7_HUMAN'}, {'prot_name': 'A0A7P0MUT5_HUMAN'}, {'prot_name': 'B7ZBF2_HUMAN'}, {'prot_name': 'B7ZBF7_HUMAN'}, {'prot_name': 'B7ZBF8_HUMAN'}, {'prot_name': 'C9JFD7_HUMAN'}, {'prot_name': 'F8WCV2_HUMAN'}, {'prot_name': 'H0Y4V6_HUMAN'}, {'prot_name': 'H0Y820_HUMAN'}, {'prot_name': 'H7BZ30_HUMAN'}, {'prot_name': 'H7C0V7_HUMAN'}, {'prot_name': 'CHK2_HUMAN'}]\n",
      "gene_id:  CDH1\n",
      "[{'prot_name': 'H3BNC6_HUMAN'}, {'prot_name': 'H3BVI7_HUMAN'}, {'prot_name': 'J3QKP1_HUMAN'}, {'prot_name': 'CADH1_HUMAN'}]\n",
      "gene_id:  BRCA1\n",
      "[{'prot_name': 'A0A0A0MSN1_HUMAN'}, {'prot_name': 'A0A0U1RRA9_HUMAN'}, {'prot_name': 'A0A2R8Y587_HUMAN'}, {'prot_name': 'A0A2R8Y6Y9_HUMAN'}, {'prot_name': 'A0A2R8Y7V5_HUMAN'}, {'prot_name': 'A0A494C182_HUMAN'}, {'prot_name': 'A0A8V8TPY7_HUMAN'}, {'prot_name': 'B7ZA85_HUMAN'}, {'prot_name': 'C6YB45_HUMAN'}, {'prot_name': 'C9IZW4_HUMAN'}, {'prot_name': 'E7ENB7_HUMAN'}, {'prot_name': 'E7EQW4_HUMAN'}, {'prot_name': 'E7EUM2_HUMAN'}, {'prot_name': 'E7EWN5_HUMAN'}, {'prot_name': 'E9PC22_HUMAN'}, {'prot_name': 'E9PH68_HUMAN'}, {'prot_name': 'G1UI37_HUMAN'}, {'prot_name': 'H0Y850_HUMAN'}, {'prot_name': 'H0Y8B8_HUMAN'}, {'prot_name': 'H0Y8D8_HUMAN'}, {'prot_name': 'K7EJW3_HUMAN'}, {'prot_name': 'K7EPC7_HUMAN'}, {'prot_name': 'Q3B891_HUMAN'}, {'prot_name': 'Q5YLB2_HUMAN'}, {'prot_name': 'BRCA1_HUMAN'}]\n",
      "gene_id:  AR\n",
      "[{'prot_name': 'A0A087WUX9_HUMAN'}, {'prot_name': 'A0A087X1B6_HUMAN'}, {'prot_name': 'A0A7I2PS51_HUMAN'}, {'prot_name': 'E9PEG3_HUMAN'}, {'prot_name': 'F5GZG9_HUMAN'}, {'prot_name': 'ANDR_HUMAN'}]\n",
      "gene_id:  BRCA2\n",
      "[{'prot_name': 'A0A590UJ24_HUMAN'}, {'prot_name': 'A0A590UJI7_HUMAN'}, {'prot_name': 'A0A590UJU6_HUMAN'}, {'prot_name': 'A0A7P0T9D7_HUMAN'}, {'prot_name': 'A0A7P0TAP7_HUMAN'}, {'prot_name': 'A0A8V8TPZ2_HUMAN'}, {'prot_name': 'A0A8V8TQQ4_HUMAN'}, {'prot_name': 'H0YD86_HUMAN'}, {'prot_name': 'H0YE37_HUMAN'}, {'prot_name': 'BRCA2_HUMAN'}]\n",
      "gene_id:  RAD51C\n",
      "[{'prot_name': 'A0A087WZ35_HUMAN'}, {'prot_name': 'A0A8V8TL64_HUMAN'}, {'prot_name': 'A0A8V8TML3_HUMAN'}, {'prot_name': 'A0A8V8TML8_HUMAN'}, {'prot_name': 'A0A8V8TMU8_HUMAN'}, {'prot_name': 'E9PI66_HUMAN'}, {'prot_name': 'H7C1R0_HUMAN'}, {'prot_name': 'H7C2Q5_HUMAN'}, {'prot_name': 'J3QKK3_HUMAN'}, {'prot_name': 'J3QLB5_HUMAN'}, {'prot_name': 'J3QLQ2_HUMAN'}, {'prot_name': 'J3QR58_HUMAN'}, {'prot_name': 'RA51C_HUMAN'}, {'prot_name': 'Q7KZJ0_HUMAN'}]\n",
      "gene_id:  ABRAXAS1\n",
      "[{'prot_name': 'A0A087WWJ9_HUMAN'}, {'prot_name': 'A0A087WXK1_HUMAN'}, {'prot_name': 'A0A087WZ78_HUMAN'}, {'prot_name': 'D6RAN3_HUMAN'}, {'prot_name': 'D6REL5_HUMAN'}, {'prot_name': 'D6RHI5_HUMAN'}, {'prot_name': 'E9PHB9_HUMAN'}, {'prot_name': 'ABRX1_HUMAN'}]\n",
      "\n",
      "Protein related with breast cancer {'H0YE37_HUMAN', 'A0A8V8TMG6_HUMAN', 'AKT1_HUMAN', 'A0A7I2PS51_HUMAN', 'H0Y8D8_HUMAN', 'A0A8V8TL98_HUMAN', 'E7EUM2_HUMAN', 'RAD51_HUMAN', 'A0A8V8TMC9_HUMAN', 'A0A804HIR6_HUMAN', 'A0A8V8TKV9_HUMAN', 'J3QQP5_HUMAN', 'A0A7P0TAP7_HUMAN', 'BRCA2_HUMAN', 'E9PNT5_HUMAN', 'A0A804HK62_HUMAN', 'J3QKP1_HUMAN', 'ANDR_HUMAN', 'BRCA1_HUMAN', 'A0A087X1V5_HUMAN', 'E9PEG3_HUMAN', 'C9JAM9_HUMAN', 'A0A804HLF1_HUMAN', 'E5RGU1_HUMAN', 'A0A804HJY1_HUMAN', 'A0A8V8TQQ4_HUMAN', 'J3QKX0_HUMAN', 'A0A6Q8PGV1_HUMAN', 'ABRX1_HUMAN', 'D6REL5_HUMAN', 'H7BZ30_HUMAN', 'A0A8V8TMH6_HUMAN', 'A0A8V8TM94_HUMAN', 'Q5YLB2_HUMAN', 'E2QRP0_HUMAN', 'Q3B891_HUMAN', 'A0A6Q8PGN9_HUMAN', 'CHK2_HUMAN', 'A0A8V8TPZ2_HUMAN', 'A0A8V8TKY5_HUMAN', 'E9PH68_HUMAN', 'A0A8V8TL95_HUMAN', 'C9J951_HUMAN', 'H0Y850_HUMAN', 'A0A087X1B6_HUMAN', 'A0A8V8TMK8_HUMAN', 'H7C0V7_HUMAN', 'E9PC22_HUMAN', 'A0A590UJU6_HUMAN', 'E9PI54_HUMAN', 'A0A087WY56_HUMAN', 'A0A0C4DG07_HUMAN', 'E7EWN5_HUMAN', 'C9JFD7_HUMAN', 'J3KS24_HUMAN', 'G1UI37_HUMAN', 'B7ZBF8_HUMAN', 'A0A804HJU1_HUMAN', 'A0A8V8TM80_HUMAN', 'B7ZA85_HUMAN', 'A0A2R8Y7V5_HUMAN', 'A0A8V8TKY0_HUMAN', 'H0Y4V6_HUMAN', 'A0A8V8TLA3_HUMAN', 'A0A0U1RRA9_HUMAN', 'A0A2R8Y587_HUMAN', 'K7EPC7_HUMAN', 'FANCJ_HUMAN', 'A0A2R8Y6Y9_HUMAN', 'A0A804HJV4_HUMAN', 'I3L2S5_HUMAN', 'J3QKK3_HUMAN', 'E9PHB9_HUMAN', 'A0A087WXK1_HUMAN', 'H0Y8B8_HUMAN', 'C6YB45_HUMAN', 'A0A804HKS0_HUMAN', 'E9PJ30_HUMAN', 'A0A087X102_HUMAN', 'A0A590UJI7_HUMAN', 'H3BN63_HUMAN', 'PK3CA_HUMAN', 'A0A8V8TPY7_HUMAN', 'K7EJW3_HUMAN', 'F5GZG9_HUMAN', 'I3L1Z5_HUMAN', 'H0Y820_HUMAN', 'A0A8V8TKZ4_HUMAN', 'A0A8V8TM88_HUMAN', 'B7ZBF7_HUMAN', 'A0A7P0T9D7_HUMAN', 'H7C2Q5_HUMAN', 'A0A8V8TMG0_HUMAN', 'A0A590UJ24_HUMAN', 'A0A8V8TLC8_HUMAN', 'C9IZW4_HUMAN', 'H0YD61_HUMAN', 'H3BVI7_HUMAN', 'E5RGR7_HUMAN', 'J3QLB5_HUMAN', 'D6RHI5_HUMAN', 'A0A8V8TML3_HUMAN', 'CADH1_HUMAN', 'F8WCV2_HUMAN', 'H3BNC6_HUMAN', 'G3V3X1_HUMAN', 'Q7KZJ0_HUMAN', 'B7ZBF2_HUMAN', 'A0A087WZ35_HUMAN', 'J3QLQ2_HUMAN', 'A0A2R8Y2F6_HUMAN', 'A0A804HJM6_HUMAN', 'D6RAN3_HUMAN', 'E7ENB7_HUMAN', 'A0A8V8TL91_HUMAN', 'A0A3B3ITA7_HUMAN', 'A0A8V8TKW6_HUMAN', 'A0A8V8TL64_HUMAN', 'J3QR58_HUMAN', 'Q9NZG9_HUMAN', 'A0A804HKK6_HUMAN', 'A0A804HHV8_HUMAN', 'A0A494C182_HUMAN', 'A0A087WWJ9_HUMAN', 'H7C1R0_HUMAN', 'PALB2_HUMAN', 'A0A7P0MUT5_HUMAN', 'RA51C_HUMAN', 'A0A8V8TMH1_HUMAN', 'A0A087WZ78_HUMAN', 'A0A804HIH9_HUMAN', 'A0A8V8TMU8_HUMAN', 'A0A087WUX9_HUMAN', 'E7EQW4_HUMAN', 'A0A804HL36_HUMAN', 'H0YD86_HUMAN', 'NBN_HUMAN', 'A0A8V8TML8_HUMAN', 'A0A0A0MSN1_HUMAN', 'E9PI66_HUMAN', 'G3V2I6_HUMAN'}\n"
     ]
    }
   ],
   "source": [
    "prot_results=[]\n",
    "for gene in unique_gene:\n",
    "    prot_name=gene2protein(gene,\"Homo sapiens\")\n",
    "    if prot_name != \"No data available for the introduced gene. Check that the gene id is correct or if you have introduced the taxon correctly.\":\n",
    "        prot_results.append(prot_name)\n",
    "        print(\"gene_id: \", gene)\n",
    "        print(prot_name)\n",
    "\n",
    "unique_prot=set()\n",
    "for prot in prot_results:\n",
    "     for prot_dict in prot:\n",
    "        prot_id = prot_dict['prot_name']\n",
    "        unique_prot.add(prot_id)\n",
    "print(\"\")\n",
    "print(\"Protein related with breast cancer\", unique_prot)\n",
    "print(len(unique_prot))"
   ]
  },
  {
   "cell_type": "markdown",
   "id": "72e11319-17ff-404e-a85f-5773f4a7ad93",
   "metadata": {},
   "source": [
    "Finally we will look for biological processes involving proteins related to breast cancer. We will use prot2bp function:"
   ]
  },
  {
   "cell_type": "code",
   "execution_count": 42,
   "id": "d6b00349-0d25-4245-bc90-00ba531dc2eb",
   "metadata": {},
   "outputs": [
    {
     "name": "stdout",
     "output_type": "stream",
     "text": [
      "prot_name:  AKT1_HUMAN\n",
      "87\n",
      "prot_name:  RAD51_HUMAN\n",
      "19\n",
      "prot_name:  BRCA2_HUMAN\n",
      "11\n",
      "prot_name:  ANDR_HUMAN\n",
      "25\n",
      "prot_name:  BRCA1_HUMAN\n",
      "42\n",
      "prot_name:  ABRX1_HUMAN\n",
      "8\n",
      "prot_name:  CHK2_HUMAN\n",
      "17\n",
      "prot_name:  FANCJ_HUMAN\n",
      "8\n",
      "prot_name:  PK3CA_HUMAN\n",
      "17\n",
      "prot_name:  CADH1_HUMAN\n",
      "16\n",
      "prot_name:  PALB2_HUMAN\n",
      "1\n",
      "prot_name:  RA51C_HUMAN\n",
      "6\n",
      "prot_name:  NBN_HUMAN\n",
      "20\n",
      "\n",
      "Biological processes in which breast cancer proteins are involved 220\n"
     ]
    }
   ],
   "source": [
    "bp_results=[]\n",
    "for prot in unique_prot:\n",
    "    bp=prot2bp(prot)\n",
    "    if bp != 'No data available for the introduced protein or you may have introduced an instance that is not a protein. Check your data type with type_data function.':\n",
    "        bp_results.append(bp)\n",
    "        print(\"prot_name: \", prot)\n",
    "        print(len(bp))\n",
    "unique_bp=set()\n",
    "for bp in bp_results:\n",
    "     for bp_dict in bp:\n",
    "        bp_label = bp_dict['bp_label']\n",
    "        unique_bp.add(bp_label)\n",
    "print(\"\")\n",
    "print(\"Biological processes involving proteins related to breast cancer\", len(unique_bp))"
   ]
  },
  {
   "cell_type": "markdown",
   "id": "12bfc10f-3172-41e2-8957-0c1c702c3a18",
   "metadata": {},
   "source": [
    "We will now find which enhancers are related with our breast cancer's genes, using the function gene2crm and we will compare the result with enhancers that will be obtained with phen2crm function (enhancers related with breast cancer phenotype)."
   ]
  },
  {
   "cell_type": "code",
   "execution_count": null,
   "id": "947c07c6-08c0-4aa9-a79c-cd39ba2a26dd",
   "metadata": {},
   "outputs": [],
   "source": [
    "crm_gene=[]\n",
    "for gene in unique_gene:\n",
    "    crm_name=gene2crm(gene)\n",
    "    if crm_name != \"No data available for the introduced gene or you may have introduced an instance that is not a gene. Check your data type with type_data function.\" :\n",
    "        crm_gene.append(crm_name)\n",
    "        print(\"gene_id: \", gene)\n",
    "        print(\"Number of crm related to the gene:\", len(crm_name))"
   ]
  },
  {
   "cell_type": "code",
   "execution_count": null,
   "id": "d84727ee-e81b-4071-84b8-b548e5ee7969",
   "metadata": {},
   "outputs": [],
   "source": []
  }
 ],
 "metadata": {
  "kernelspec": {
   "display_name": "Python3.8",
   "language": "python",
   "name": "python3.8"
  },
  "language_info": {
   "codemirror_mode": {
    "name": "ipython",
    "version": 3
   },
   "file_extension": ".py",
   "mimetype": "text/x-python",
   "name": "python",
   "nbconvert_exporter": "python",
   "pygments_lexer": "ipython3",
   "version": "3.8.3"
  }
 },
 "nbformat": 4,
 "nbformat_minor": 5
}
