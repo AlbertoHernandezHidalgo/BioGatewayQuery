{
 "cells": [
  {
   "cell_type": "code",
   "execution_count": 1,
   "id": "edc67e07-419d-4595-91c0-c2213b0f4a84",
   "metadata": {},
   "outputs": [],
   "source": [
    "from PyBioGateway import getPhenotype, phen2gene, gene2protein, prot2bp, gene2crm, phen2crm, crm2gene, gene2tfac"
   ]
  },
  {
   "cell_type": "markdown",
   "id": "979cbcd7-cfb6-43c4-8534-2bb5bd9d602b",
   "metadata": {},
   "source": [
    "In this second example, we will analyse the regulatory network that might be related to a specific phenotype, in this case, breast cancer. First, we will identify which phenotypes are under study, since they contain \"breast cancer\" in their name. For this purpose, we will use the getPhenotype function.\n"
   ]
  },
  {
   "cell_type": "code",
   "execution_count": 2,
   "id": "d96b7068-c25b-449b-9537-b8f963420c71",
   "metadata": {},
   "outputs": [
    {
     "data": {
      "text/plain": [
       "75"
      ]
     },
     "execution_count": 2,
     "metadata": {},
     "output_type": "execute_result"
    }
   ],
   "source": [
    "import time\n",
    "\n",
    "start_time = time.time()\n",
    "bc_phenotypes=getPhenotype(\"breast cancer\")\n",
    "len(bc_phenotypes)\n"
   ]
  },
  {
   "cell_type": "markdown",
   "id": "12352e58-62ae-4d01-986a-3d23da80e825",
   "metadata": {},
   "source": [
    "There are a total of 75 phenotypes that include breast cancer in their names. Now, we will find out which genes are involved with these phenotypes and all the proteins coded by these genes. Additionally, we will identify all biological processes that these proteins are involved in."
   ]
  },
  {
   "cell_type": "markdown",
   "id": "92a54b01-7bc5-477e-8977-f004f29f085e",
   "metadata": {},
   "source": [
    "First we are going to get genes related with every phenotype, using phen2gene function."
   ]
  },
  {
   "cell_type": "code",
   "execution_count": 3,
   "id": "bc419b57-81c3-43c7-bafa-c1d9771a47aa",
   "metadata": {},
   "outputs": [
    {
     "name": "stdout",
     "output_type": "stream",
     "text": [
      "omim_id: 137215\n",
      "[{'gene_name': 'CDH1'}]\n",
      "omim_id: 114480\n",
      "[{'gene_name': 'NBN'}, {'gene_name': 'ABRAXAS1'}, {'gene_name': 'AKT1'}, {'gene_name': 'BRCA1'}, {'gene_name': 'BRCA2'}, {'gene_name': 'BRIP1'}, {'gene_name': 'CHEK2'}, {'gene_name': 'PALB2'}, {'gene_name': 'PIK3CA'}, {'gene_name': 'RAD51'}]\n",
      "omim_id: 114480\n",
      "[{'gene_name': 'NBN'}, {'gene_name': 'ABRAXAS1'}, {'gene_name': 'AKT1'}, {'gene_name': 'BRCA1'}, {'gene_name': 'BRCA2'}, {'gene_name': 'BRIP1'}, {'gene_name': 'CHEK2'}, {'gene_name': 'PALB2'}, {'gene_name': 'PIK3CA'}, {'gene_name': 'RAD51'}]\n",
      "omim_id: 114480\n",
      "[{'gene_name': 'NBN'}, {'gene_name': 'ABRAXAS1'}, {'gene_name': 'AKT1'}, {'gene_name': 'BRCA1'}, {'gene_name': 'BRCA2'}, {'gene_name': 'BRIP1'}, {'gene_name': 'CHEK2'}, {'gene_name': 'PALB2'}, {'gene_name': 'PIK3CA'}, {'gene_name': 'RAD51'}]\n",
      "omim_id: 137215\n",
      "[{'gene_name': 'CDH1'}]\n",
      "omim_id: 137215\n",
      "[{'gene_name': 'CDH1'}]\n",
      "omim_id: 312300\n",
      "[{'gene_name': 'AR'}]\n",
      "omim_id: 604370\n",
      "[{'gene_name': 'BRCA1'}]\n",
      "omim_id: 613399\n",
      "[{'gene_name': 'RAD51C'}]\n",
      "Genes related with breast cancer {'CHEK2', 'AR', 'RAD51C', 'RAD51', 'AKT1', 'CDH1', 'PIK3CA', 'BRCA1', 'BRIP1', 'BRCA2', 'PALB2', 'NBN', 'ABRAXAS1'}\n"
     ]
    }
   ],
   "source": [
    "gene_results=[]\n",
    "for phen in bc_phenotypes:\n",
    "    omim_id=phen[\"omim_id\"]\n",
    "    gene_bc=phen2gene(omim_id)\n",
    "    if gene_bc != 'No data available for the introduced phenotype or you may have introduced an instance that is not a phenotype. Check your data type with type_data function.':\n",
    "        gene_results.append(gene_bc)\n",
    "        print(\"omim_id:\", omim_id)\n",
    "        print(gene_bc)\n",
    "unique_gene=set()\n",
    "for gene in gene_results:\n",
    "     for gene_dict in gene:\n",
    "        gene_id = gene_dict['gene_name']\n",
    "        unique_gene.add(gene_id)\n",
    "print(\"Genes related with breast cancer\", unique_gene)\n"
   ]
  },
  {
   "cell_type": "markdown",
   "id": "0fd5d703-7e24-48cb-a262-c766ed0fd5d3",
   "metadata": {},
   "source": [
    "Genes related with breast cancer are 'AKT1', 'PALB2', 'RAD51', 'NBN', 'PIK3CA', 'BRIP1', 'CHEK2', 'CDH1', 'BRCA1', 'AR', 'BRCA2', 'RAD51C' and 'ABRAXAS1', now we will get proteins that are encoded by these genes whit gene2prot function:"
   ]
  },
  {
   "cell_type": "code",
   "execution_count": 4,
   "id": "cd08120e-802a-40e5-97f1-e66b479ed0c5",
   "metadata": {},
   "outputs": [
    {
     "name": "stdout",
     "output_type": "stream",
     "text": [
      "gene_id:  CHEK2\n",
      "[{'prot_name': 'A0A087X102_HUMAN'}, {'prot_name': 'A0A3B3ITA7_HUMAN'}, {'prot_name': 'A0A7P0MUT5_HUMAN'}, {'prot_name': 'B7ZBF2_HUMAN'}, {'prot_name': 'B7ZBF7_HUMAN'}, {'prot_name': 'B7ZBF8_HUMAN'}, {'prot_name': 'C9JFD7_HUMAN'}, {'prot_name': 'F8WCV2_HUMAN'}, {'prot_name': 'H0Y4V6_HUMAN'}, {'prot_name': 'H0Y820_HUMAN'}, {'prot_name': 'H7BZ30_HUMAN'}, {'prot_name': 'H7C0V7_HUMAN'}, {'prot_name': 'CHK2_HUMAN'}]\n",
      "gene_id:  AR\n",
      "[{'prot_name': 'A0A087WUX9_HUMAN'}, {'prot_name': 'A0A087X1B6_HUMAN'}, {'prot_name': 'A0A7I2PS51_HUMAN'}, {'prot_name': 'E9PEG3_HUMAN'}, {'prot_name': 'F5GZG9_HUMAN'}, {'prot_name': 'ANDR_HUMAN'}]\n",
      "gene_id:  RAD51C\n",
      "[{'prot_name': 'A0A087WZ35_HUMAN'}, {'prot_name': 'A0A8V8TL64_HUMAN'}, {'prot_name': 'A0A8V8TML3_HUMAN'}, {'prot_name': 'A0A8V8TML8_HUMAN'}, {'prot_name': 'A0A8V8TMU8_HUMAN'}, {'prot_name': 'E9PI66_HUMAN'}, {'prot_name': 'H7C1R0_HUMAN'}, {'prot_name': 'H7C2Q5_HUMAN'}, {'prot_name': 'J3QKK3_HUMAN'}, {'prot_name': 'J3QLB5_HUMAN'}, {'prot_name': 'J3QLQ2_HUMAN'}, {'prot_name': 'J3QR58_HUMAN'}, {'prot_name': 'RA51C_HUMAN'}, {'prot_name': 'Q7KZJ0_HUMAN'}]\n",
      "gene_id:  RAD51\n",
      "[{'prot_name': 'E9PI54_HUMAN'}, {'prot_name': 'E9PJ30_HUMAN'}, {'prot_name': 'E9PNT5_HUMAN'}, {'prot_name': 'H0YD61_HUMAN'}, {'prot_name': 'RAD51_HUMAN'}, {'prot_name': 'Q9NZG9_HUMAN'}]\n",
      "gene_id:  AKT1\n",
      "[{'prot_name': 'A0A087WY56_HUMAN'}, {'prot_name': 'A0A804HJM6_HUMAN'}, {'prot_name': 'G3V2I6_HUMAN'}, {'prot_name': 'G3V3X1_HUMAN'}, {'prot_name': 'AKT1_HUMAN'}]\n",
      "gene_id:  CDH1\n",
      "[{'prot_name': 'H3BNC6_HUMAN'}, {'prot_name': 'H3BVI7_HUMAN'}, {'prot_name': 'J3QKP1_HUMAN'}, {'prot_name': 'CADH1_HUMAN'}]\n",
      "gene_id:  PIK3CA\n",
      "[{'prot_name': 'A0A2R8Y2F6_HUMAN'}, {'prot_name': 'A0A6Q8PGN9_HUMAN'}, {'prot_name': 'A0A6Q8PGV1_HUMAN'}, {'prot_name': 'C9J951_HUMAN'}, {'prot_name': 'C9JAM9_HUMAN'}, {'prot_name': 'PK3CA_HUMAN'}]\n",
      "gene_id:  BRCA1\n",
      "[{'prot_name': 'A0A0A0MSN1_HUMAN'}, {'prot_name': 'A0A0U1RRA9_HUMAN'}, {'prot_name': 'A0A2R8Y587_HUMAN'}, {'prot_name': 'A0A2R8Y6Y9_HUMAN'}, {'prot_name': 'A0A2R8Y7V5_HUMAN'}, {'prot_name': 'A0A494C182_HUMAN'}, {'prot_name': 'A0A8V8TPY7_HUMAN'}, {'prot_name': 'B7ZA85_HUMAN'}, {'prot_name': 'C6YB45_HUMAN'}, {'prot_name': 'C9IZW4_HUMAN'}, {'prot_name': 'E7ENB7_HUMAN'}, {'prot_name': 'E7EQW4_HUMAN'}, {'prot_name': 'E7EUM2_HUMAN'}, {'prot_name': 'E7EWN5_HUMAN'}, {'prot_name': 'E9PC22_HUMAN'}, {'prot_name': 'E9PH68_HUMAN'}, {'prot_name': 'G1UI37_HUMAN'}, {'prot_name': 'H0Y850_HUMAN'}, {'prot_name': 'H0Y8B8_HUMAN'}, {'prot_name': 'H0Y8D8_HUMAN'}, {'prot_name': 'K7EJW3_HUMAN'}, {'prot_name': 'K7EPC7_HUMAN'}, {'prot_name': 'Q3B891_HUMAN'}, {'prot_name': 'Q5YLB2_HUMAN'}, {'prot_name': 'BRCA1_HUMAN'}]\n",
      "gene_id:  BRIP1\n",
      "[{'prot_name': 'A0A804HHV8_HUMAN'}, {'prot_name': 'A0A804HIH9_HUMAN'}, {'prot_name': 'A0A804HIR6_HUMAN'}, {'prot_name': 'A0A804HJU1_HUMAN'}, {'prot_name': 'A0A804HJV4_HUMAN'}, {'prot_name': 'A0A804HJY1_HUMAN'}, {'prot_name': 'A0A804HK62_HUMAN'}, {'prot_name': 'A0A804HKK6_HUMAN'}, {'prot_name': 'A0A804HKS0_HUMAN'}, {'prot_name': 'A0A804HL36_HUMAN'}, {'prot_name': 'A0A804HLF1_HUMAN'}, {'prot_name': 'J3KS24_HUMAN'}, {'prot_name': 'J3QKX0_HUMAN'}, {'prot_name': 'J3QQP5_HUMAN'}, {'prot_name': 'FANCJ_HUMAN'}]\n",
      "gene_id:  BRCA2\n",
      "[{'prot_name': 'A0A590UJ24_HUMAN'}, {'prot_name': 'A0A590UJI7_HUMAN'}, {'prot_name': 'A0A590UJU6_HUMAN'}, {'prot_name': 'A0A7P0T9D7_HUMAN'}, {'prot_name': 'A0A7P0TAP7_HUMAN'}, {'prot_name': 'A0A8V8TPZ2_HUMAN'}, {'prot_name': 'A0A8V8TQQ4_HUMAN'}, {'prot_name': 'H0YD86_HUMAN'}, {'prot_name': 'H0YE37_HUMAN'}, {'prot_name': 'BRCA2_HUMAN'}]\n",
      "gene_id:  PALB2\n",
      "[{'prot_name': 'A0A8V8TKZ4_HUMAN'}, {'prot_name': 'A0A8V8TLC8_HUMAN'}, {'prot_name': 'A0A8V8TMC9_HUMAN'}, {'prot_name': 'A0A8V8TMK8_HUMAN'}, {'prot_name': 'H3BN63_HUMAN'}, {'prot_name': 'I3L1Z5_HUMAN'}, {'prot_name': 'I3L2S5_HUMAN'}, {'prot_name': 'PALB2_HUMAN'}]\n",
      "gene_id:  NBN\n",
      "[{'prot_name': 'A0A087X1V5_HUMAN'}, {'prot_name': 'A0A0C4DG07_HUMAN'}, {'prot_name': 'A0A8V8TKV9_HUMAN'}, {'prot_name': 'A0A8V8TKW6_HUMAN'}, {'prot_name': 'A0A8V8TKY0_HUMAN'}, {'prot_name': 'A0A8V8TKY5_HUMAN'}, {'prot_name': 'A0A8V8TL91_HUMAN'}, {'prot_name': 'A0A8V8TL95_HUMAN'}, {'prot_name': 'A0A8V8TL98_HUMAN'}, {'prot_name': 'A0A8V8TLA3_HUMAN'}, {'prot_name': 'A0A8V8TM80_HUMAN'}, {'prot_name': 'A0A8V8TM88_HUMAN'}, {'prot_name': 'A0A8V8TM94_HUMAN'}, {'prot_name': 'A0A8V8TMG0_HUMAN'}, {'prot_name': 'A0A8V8TMG6_HUMAN'}, {'prot_name': 'A0A8V8TMH1_HUMAN'}, {'prot_name': 'A0A8V8TMH6_HUMAN'}, {'prot_name': 'E2QRP0_HUMAN'}, {'prot_name': 'E5RGR7_HUMAN'}, {'prot_name': 'E5RGU1_HUMAN'}, {'prot_name': 'NBN_HUMAN'}]\n",
      "gene_id:  ABRAXAS1\n",
      "[{'prot_name': 'A0A087WWJ9_HUMAN'}, {'prot_name': 'A0A087WXK1_HUMAN'}, {'prot_name': 'A0A087WZ78_HUMAN'}, {'prot_name': 'D6RAN3_HUMAN'}, {'prot_name': 'D6REL5_HUMAN'}, {'prot_name': 'D6RHI5_HUMAN'}, {'prot_name': 'E9PHB9_HUMAN'}, {'prot_name': 'ABRX1_HUMAN'}]\n",
      "\n",
      "Protein related with breast cancer {'AKT1_HUMAN', 'CHK2_HUMAN', 'A0A590UJ24_HUMAN', 'H7C0V7_HUMAN', 'K7EPC7_HUMAN', 'A0A804HJV4_HUMAN', 'E7ENB7_HUMAN', 'BRCA1_HUMAN', 'H7C2Q5_HUMAN', 'H0YE37_HUMAN', 'G3V3X1_HUMAN', 'I3L1Z5_HUMAN', 'H3BNC6_HUMAN', 'C6YB45_HUMAN', 'J3QKX0_HUMAN', 'J3QLQ2_HUMAN', 'A0A087X1B6_HUMAN', 'A0A8V8TKW6_HUMAN', 'H0Y8D8_HUMAN', 'E9PNT5_HUMAN', 'A0A7P0T9D7_HUMAN', 'B7ZBF2_HUMAN', 'A0A590UJI7_HUMAN', 'A0A087WUX9_HUMAN', 'A0A8V8TL95_HUMAN', 'F5GZG9_HUMAN', 'Q7KZJ0_HUMAN', 'CADH1_HUMAN', 'E9PH68_HUMAN', 'A0A3B3ITA7_HUMAN', 'E9PHB9_HUMAN', 'I3L2S5_HUMAN', 'A0A8V8TMG6_HUMAN', 'D6RAN3_HUMAN', 'A0A7P0TAP7_HUMAN', 'A0A8V8TM80_HUMAN', 'RAD51_HUMAN', 'A0A804HL36_HUMAN', 'K7EJW3_HUMAN', 'H7C1R0_HUMAN', 'G3V2I6_HUMAN', 'A0A8V8TMU8_HUMAN', 'A0A8V8TKY5_HUMAN', 'A0A8V8TM88_HUMAN', 'E9PI54_HUMAN', 'A0A8V8TM94_HUMAN', 'A0A8V8TML3_HUMAN', 'A0A087WZ35_HUMAN', 'E9PC22_HUMAN', 'A0A804HIR6_HUMAN', 'A0A8V8TPY7_HUMAN', 'Q5YLB2_HUMAN', 'ABRX1_HUMAN', 'C9IZW4_HUMAN', 'A0A7P0MUT5_HUMAN', 'A0A087X1V5_HUMAN', 'C9JAM9_HUMAN', 'A0A8V8TKZ4_HUMAN', 'H0Y850_HUMAN', 'A0A8V8TMC9_HUMAN', 'J3QLB5_HUMAN', 'H3BVI7_HUMAN', 'E5RGU1_HUMAN', 'E9PJ30_HUMAN', 'A0A2R8Y2F6_HUMAN', 'C9JFD7_HUMAN', 'A0A087WY56_HUMAN', 'A0A087WXK1_HUMAN', 'A0A7I2PS51_HUMAN', 'Q9NZG9_HUMAN', 'A0A8V8TMG0_HUMAN', 'A0A8V8TL91_HUMAN', 'A0A8V8TLA3_HUMAN', 'BRCA2_HUMAN', 'A0A8V8TLC8_HUMAN', 'A0A590UJU6_HUMAN', 'A0A6Q8PGN9_HUMAN', 'A0A8V8TPZ2_HUMAN', 'A0A2R8Y6Y9_HUMAN', 'J3QKK3_HUMAN', 'F8WCV2_HUMAN', 'A0A8V8TL64_HUMAN', 'A0A804HKS0_HUMAN', 'A0A087X102_HUMAN', 'A0A804HJU1_HUMAN', 'A0A8V8TMK8_HUMAN', 'A0A8V8TMH6_HUMAN', 'E7EUM2_HUMAN', 'H0YD86_HUMAN', 'A0A804HLF1_HUMAN', 'A0A6Q8PGV1_HUMAN', 'J3QQP5_HUMAN', 'A0A8V8TKY0_HUMAN', 'J3QKP1_HUMAN', 'A0A804HHV8_HUMAN', 'B7ZBF7_HUMAN', 'J3KS24_HUMAN', 'A0A2R8Y587_HUMAN', 'H0Y820_HUMAN', 'PK3CA_HUMAN', 'E9PEG3_HUMAN', 'E7EWN5_HUMAN', 'A0A8V8TL98_HUMAN', 'A0A8V8TML8_HUMAN', 'ANDR_HUMAN', 'H0Y4V6_HUMAN', 'PALB2_HUMAN', 'A0A8V8TMH1_HUMAN', 'A0A804HKK6_HUMAN', 'A0A8V8TKV9_HUMAN', 'E5RGR7_HUMAN', 'G1UI37_HUMAN', 'A0A0A0MSN1_HUMAN', 'D6RHI5_HUMAN', 'RA51C_HUMAN', 'H3BN63_HUMAN', 'B7ZBF8_HUMAN', 'J3QR58_HUMAN', 'E7EQW4_HUMAN', 'FANCJ_HUMAN', 'Q3B891_HUMAN', 'H0YD61_HUMAN', 'A0A804HK62_HUMAN', 'A0A8V8TQQ4_HUMAN', 'A0A804HJY1_HUMAN', 'A0A087WZ78_HUMAN', 'A0A0C4DG07_HUMAN', 'A0A0U1RRA9_HUMAN', 'A0A804HJM6_HUMAN', 'A0A494C182_HUMAN', 'E9PI66_HUMAN', 'A0A087WWJ9_HUMAN', 'H7BZ30_HUMAN', 'A0A2R8Y7V5_HUMAN', 'NBN_HUMAN', 'E2QRP0_HUMAN', 'B7ZA85_HUMAN', 'A0A804HIH9_HUMAN', 'C9J951_HUMAN', 'H0Y8B8_HUMAN', 'D6REL5_HUMAN'}\n",
      "141\n"
     ]
    }
   ],
   "source": [
    "prot_results=[]\n",
    "for gene in unique_gene:\n",
    "    prot_name=gene2protein(gene,\"Homo sapiens\")\n",
    "    if prot_name != \"No data available for the introduced gene. Check that the gene id is correct or if you have introduced the taxon correctly.\":\n",
    "        prot_results.append(prot_name)\n",
    "        print(\"gene_id: \", gene)\n",
    "        print(prot_name)\n",
    "\n",
    "unique_prot=set()\n",
    "for prot in prot_results:\n",
    "     for prot_dict in prot:\n",
    "        prot_id = prot_dict['prot_name']\n",
    "        unique_prot.add(prot_id)\n",
    "print(\"\")\n",
    "print(\"Protein related with breast cancer\", unique_prot)\n",
    "print(len(unique_prot))"
   ]
  },
  {
   "cell_type": "markdown",
   "id": "72e11319-17ff-404e-a85f-5773f4a7ad93",
   "metadata": {},
   "source": [
    "Finally we will look for biological processes involving proteins related to breast cancer. We will use prot2bp function:"
   ]
  },
  {
   "cell_type": "code",
   "execution_count": 5,
   "id": "d6b00349-0d25-4245-bc90-00ba531dc2eb",
   "metadata": {},
   "outputs": [
    {
     "name": "stdout",
     "output_type": "stream",
     "text": [
      "prot_name:  AKT1_HUMAN\n",
      "87\n",
      "prot_name:  CHK2_HUMAN\n",
      "17\n",
      "prot_name:  BRCA1_HUMAN\n",
      "42\n",
      "prot_name:  CADH1_HUMAN\n",
      "16\n",
      "prot_name:  RAD51_HUMAN\n",
      "19\n",
      "prot_name:  ABRX1_HUMAN\n",
      "8\n",
      "prot_name:  BRCA2_HUMAN\n",
      "11\n",
      "prot_name:  PK3CA_HUMAN\n",
      "17\n",
      "prot_name:  ANDR_HUMAN\n",
      "25\n",
      "prot_name:  PALB2_HUMAN\n",
      "1\n",
      "prot_name:  RA51C_HUMAN\n",
      "6\n",
      "prot_name:  FANCJ_HUMAN\n",
      "8\n",
      "prot_name:  NBN_HUMAN\n",
      "20\n",
      "\n",
      "Biological processes involving proteins related to breast cancer 220\n",
      "\n",
      "{'positive regulation of TORC1 signaling', 'regulation of gene expression', 'double-strand break repair', 'negative regulation of cell population proliferation', 'non-canonical NF-kappaB signal transduction', 'negative regulation of leukocyte cell-cell adhesion', 'DNA repair', 'synapse assembly', 'double-strand break repair via homologous recombination', 'negative regulation of transcription by RNA polymerase II', 'cellular response to ionizing radiation', 'cellular response to epidermal growth factor stimulus', 'replicative senescence', 'positive regulation of endothelial cell proliferation', 'sphingosine-1-phosphate receptor signaling pathway', 'intracellular receptor signaling pathway', 'negative regulation of protein kinase activity', 'cellular response to reactive oxygen species', 'positive regulation of glucose metabolic process', 'positive regulation of cell differentiation', 'mitotic intra-S DNA damage checkpoint signaling', 'regulation of cell migration', 'cellular response to testosterone stimulus', 'canonical NF-kappaB signal transduction', 'G2/M transition of mitotic cell cycle', 'male gonad development', 'protein import into nucleus', 'positive regulation of endothelial cell migration', 'cellular response to indole-3-methanol', \"telomeric 3' overhang formation\", 'positive regulation of DNA-binding transcription factor activity', 'positive regulation of fat cell differentiation', 'mitotic G2/M transition checkpoint', 'DNA recombination', 'negative regulation of autophagy', 'positive regulation of protein phosphorylation', 'interstrand cross-link repair', 'positive regulation of I-kappaB phosphorylation', 'homophilic cell adhesion via plasma membrane adhesion molecules', 'negative regulation of cGAS/STING signaling pathway', 'response to heat', 'phosphorylation', 'mitotic spindle assembly', 'negative regulation of gene expression via CpG island methylation', 'negative regulation of proteolysis', 'negative regulation of endopeptidase activity', 'negative regulation of protein ubiquitination', 'calcium-dependent cell-cell adhesion via plasma membrane cell adhesion molecules', 'negative regulation of intracellular estrogen receptor signaling pathway', 'intrinsic apoptotic signaling pathway in response to DNA damage', 'DNA unwinding involved in DNA replication', 'DNA strand resection involved in replication fork processing', 'fibroblast migration', 'centrosome duplication', 'negative regulation of anoikis', 'regulation of protein localization to plasma membrane', 'negative regulation of apoptotic process', 'cell migration involved in sprouting angiogenesis', 'negative regulation of lymphocyte migration', 'negative regulation of cell cycle', 'vascular endothelial growth factor signaling pathway', 'positive regulation of cyclin-dependent protein serine/threonine kinase activity', 'cellular response to cadmium ion', 'positive regulation of protein localization to nucleus', 'positive regulation of miRNA transcription', 'regulation of protein catabolic process', 'cellular response to hydrostatic pressure', 'replication fork processing', 'positive regulation of TOR signaling', 'reciprocal meiotic recombination', 'positive regulation of protein autophosphorylation', 'intracellular signal transduction', 'nitric oxide biosynthetic process', 'response to growth factor', 'regulation of tRNA methylation', 'platelet activation', 'positive regulation of protein localization to endoplasmic reticulum', 'negative regulation of DNA-templated transcription', 'negative regulation of extrinsic apoptotic signaling pathway', 'positive regulation of cell population proliferation', 'protein phosphorylation', 'anoikis', 'positive regulation of smooth muscle cell proliferation', 'positive regulation of nitric oxide biosynthetic process', 'DNA damage checkpoint signaling', 'protein localization to plasma membrane', 'positive regulation of endodeoxyribonuclease activity', 'negative regulation of centriole replication', 'double-strand break repair involved in meiotic recombination', 'androgen receptor signaling pathway', 'positive regulation of glycogen biosynthetic process', 'protein catabolic process', 'cell differentiation', 'dosage compensation by inactivation of X chromosome', 'activation-induced cell death of T cells', 'cellular response to tumor necrosis factor', 'negative regulation of reactive oxygen species metabolic process', 'localization', 'positive regulation of integrin biosynthetic process', 'negative regulation of cilium assembly', 'cellular response to lithium ion', 'peptidyl-threonine phosphorylation', 'cell-cell junction assembly', 'positive regulation of transcription by RNA polymerase II', 'protein-DNA covalent cross-linking repair', 'endothelial cell migration', 'positive regulation of nitric-oxide synthase activity', 'signal transduction in response to DNA damage', 'positive regulation of telomere maintenance', 'postreplication repair', 'virus-mediated perturbation of host defense response', 'positive regulation of peptidyl-serine phosphorylation', 'attachment of spindle microtubules to kinetochore', 'phosphatidylinositol-3-phosphate biosynthetic process', 'excitatory postsynaptic potential', 'negative regulation of protein binding', 'positive regulation of DNA repair', 'G protein-coupled receptor signaling pathway', 'telomere maintenance', 'negative regulation of telomere capping', 'positive regulation of blood vessel endothelial cell migration', 'cellular response to insulin stimulus', 'chromosome organization involved in meiotic cell cycle', 'response to ionizing radiation', 'positive regulation of protein localization to membrane', 'interleukin-18-mediated signaling pathway', 'negative regulation of mammary gland epithelial cell proliferation', 'protein K6-linked ubiquitination', 'homologous recombination', 'mitotic G2 DNA damage checkpoint signaling', 'chordate embryonic development', 'negative regulation of integrin biosynthetic process', 'positive regulation of DNA-templated transcription', 'positive regulation of gene expression', 'positive regulation of glucose import', 'cell morphogenesis', 'positive regulation of protein import into nucleus', 'positive regulation of proteasomal ubiquitin-dependent protein catabolic process', 'negative regulation of macroautophagy', 'negative regulation of cell migration', 'cellular response to estrogen stimulus', 'DNA recombinase assembly', 'cellular response to camptothecin', 'mitotic recombination-dependent replication fork processing', 'positive regulation of angiogenesis', 'positive regulation of cell growth', 'DNA damage response', 'regulation of DNA repair', 'insulin receptor signaling pathway', 'protein stabilization', 'intracellular estrogen receptor signaling pathway', 'negative regulation of extrinsic apoptotic signaling pathway via death domain receptors', 'cardiac muscle contraction', 'DNA damage response, signal transduction by p53 class mediator', 't-circle formation', 'insulin-like growth factor receptor signaling pathway', 'cell population proliferation', 'cell-cell adhesion', 'response to fluid shear stress', 'telomere maintenance via recombination', 'protein ubiquitination', 'negative regulation of fatty acid biosynthetic process', 'regulation of transcription by RNA polymerase II', 'meiotic DNA recombinase assembly', 'negative regulation of long-chain fatty acid import across plasma membrane', 'telomere maintenance via telomere lengthening', 'regulation of DNA damage checkpoint', 'cellular response to nerve growth factor stimulus', 'negative regulation of protein serine/threonine kinase activity', 'cellular response to oxidised low-density lipoprotein particle stimulus', 'DNA strand invasion', 'positive regulation of protein localization to plasma membrane', 'regulation of glycogen biosynthetic process', 'positive regulation of histone acetylation', 'chromosome segregation', 'epidermal growth factor receptor signaling pathway', 'maintenance of protein location in mitochondrion', 'positive regulation of G1/S transition of mitotic cell cycle', 'telomere maintenance via telomere trimming', 'protein autoubiquitination', 'mitotic recombination', 'negative regulation of cell growth', 'nucleotide-excision repair', 'vasculature development', 'signal transduction', 'negative regulation of protein localization to lysosome', 'protein autophosphorylation', 'positive regulation of phosphatidylinositol 3-kinase/protein kinase B signal transduction', 'DNA double-strand break processing', 'TOR signaling', 'regulation of DNA-templated transcription', 'positive regulation of DNA ligation', 'regulation of cell cycle', 'positive regulation of NF-kappaB transcription factor activity', 'cell-cell adhesion mediated by cadherin', 'positive regulation of G2/M transition of mitotic cell cycle', 'negative regulation of fatty acid beta-oxidation', 'adherens junction organization', 'intracellular steroid hormone receptor signaling pathway', 'negative regulation of cell-cell adhesion', 'cellular response to steroid hormone stimulus', 'regulation of double-strand break repair via homologous recombination', 'negative regulation of oxidative stress-induced intrinsic apoptotic signaling pathway', 'positive regulation of transcription by RNA polymerase III', 'mammary gland epithelial cell differentiation', 'positive regulation of lipid biosynthetic process', 'negative regulation of extrinsic apoptotic signaling pathway in absence of ligand', 'positive regulation of phosphorylation', 'response to UV-A', 'positive regulation of kinase activity', 'cell-cell signaling', 'establishment of protein localization to mitochondrion', 'negative regulation of histone acetylation', 'phosphatidylinositol 3-kinase/protein kinase B signal transduction', 'regulation of DNA-templated DNA replication initiation', 'positive regulation of vascular endothelial growth factor production', 'establishment of protein localization to telomere', 'DNA duplex unwinding', 'mitotic DNA damage checkpoint signaling', 'peptidyl-serine phosphorylation'}\n"
     ]
    }
   ],
   "source": [
    "bp_results=[]\n",
    "for prot in unique_prot:\n",
    "    bp=prot2bp(prot)\n",
    "    if bp != 'No data available for the introduced protein or you may have introduced an instance that is not a protein. Check your data type with type_data function.':\n",
    "        bp_results.append(bp)\n",
    "        print(\"prot_name: \", prot)\n",
    "        print(len(bp))\n",
    "unique_bp=set()\n",
    "for bp in bp_results:\n",
    "     for bp_dict in bp:\n",
    "        bp_label = bp_dict['bp_label']\n",
    "        unique_bp.add(bp_label)\n",
    "print(\"\")\n",
    "print(\"Biological processes involving proteins related to breast cancer\", len(unique_bp))\n",
    "print(\"\")\n",
    "print(unique_bp)"
   ]
  },
  {
   "cell_type": "markdown",
   "id": "07afc7c2-3f87-4d2c-8178-c9f18a6c128f",
   "metadata": {},
   "source": [
    "As we can see, biological processes related with breast cancer related proteins are DNA repair, cell population proliferation, regulation and apoptotic process and angiogenesis among others."
   ]
  },
  {
   "cell_type": "markdown",
   "id": "12bfc10f-3172-41e2-8957-0c1c702c3a18",
   "metadata": {},
   "source": [
    "We will now find which enhancers are related with our breast cancer's genes, using the function gene2crm and we will compare the result with enhancers that will be obtained with phen2crm function (enhancers related with breast cancer phenotype)."
   ]
  },
  {
   "cell_type": "code",
   "execution_count": 6,
   "id": "947c07c6-08c0-4aa9-a79c-cd39ba2a26dd",
   "metadata": {},
   "outputs": [
    {
     "name": "stdout",
     "output_type": "stream",
     "text": [
      "gene_id:  CHEK2\n",
      "Number of crm related to the gene: 897\n",
      "gene_id:  AR\n",
      "Number of crm related to the gene: 360\n",
      "gene_id:  RAD51C\n",
      "Number of crm related to the gene: 601\n",
      "gene_id:  RAD51\n",
      "Number of crm related to the gene: 546\n",
      "gene_id:  AKT1\n",
      "Number of crm related to the gene: 966\n",
      "gene_id:  CDH1\n",
      "Number of crm related to the gene: 903\n",
      "gene_id:  PIK3CA\n",
      "Number of crm related to the gene: 414\n",
      "gene_id:  BRCA1\n",
      "Number of crm related to the gene: 711\n",
      "gene_id:  BRIP1\n",
      "Number of crm related to the gene: 361\n",
      "gene_id:  BRCA2\n",
      "Number of crm related to the gene: 467\n",
      "gene_id:  PALB2\n",
      "Number of crm related to the gene: 481\n",
      "gene_id:  NBN\n",
      "Number of crm related to the gene: 532\n",
      "gene_id:  ABRAXAS1\n",
      "Number of crm related to the gene: 442\n",
      "\n",
      "Number of crm related with breast cancer genes 7681\n"
     ]
    }
   ],
   "source": [
    "crm_gene=[]\n",
    "for gene in unique_gene:\n",
    "    crm_name=gene2crm(gene)\n",
    "    if crm_name != \"No data available for the introduced gene or you may have introduced an instance that is not a gene. Check your data type with type_data function.\" :\n",
    "        crm_gene.append(crm_name)\n",
    "        print(\"gene_id: \", gene)\n",
    "        print(\"Number of crm related to the gene:\", len(crm_name))\n",
    "unique_crm_gene=set()\n",
    "for crm in crm_gene:\n",
    "     for crm_dict in crm:\n",
    "        crm_id = crm_dict['crm_name']\n",
    "        unique_crm_gene.add(crm_id)\n",
    "print(\"\")\n",
    "print(\"Number of crm related with breast cancer genes\", len(unique_crm_gene))\n"
   ]
  },
  {
   "cell_type": "code",
   "execution_count": 7,
   "id": "d84727ee-e81b-4071-84b8-b548e5ee7969",
   "metadata": {},
   "outputs": [
    {
     "name": "stdout",
     "output_type": "stream",
     "text": [
      "omim_id: 114480\n",
      "Number of crm related with the omim id: 302\n",
      "omim_id: 114480\n",
      "Number of crm related with the omim id: 302\n",
      "omim_id: 114480\n",
      "Number of crm related with the omim id: 302\n",
      "Number of crm related with breast cancer 302\n"
     ]
    }
   ],
   "source": [
    "crm_phen=[]\n",
    "for phen in bc_phenotypes:\n",
    "    omim_id=phen[\"omim_id\"]\n",
    "    crm_bc=phen2crm(omim_id)\n",
    "    if crm_bc != \"No data available for the introduced phenotype or you may have introduced an instance that is not a phenotype. Check your data type with type_data function.\":\n",
    "        crm_phen.append(crm_bc)\n",
    "        print(\"omim_id:\", omim_id)\n",
    "        print(\"Number of crm related with the omim id:\", len(crm_bc))\n",
    "unique_crm_phen=set()\n",
    "for crm in crm_phen:\n",
    "     for crm_dict in crm:\n",
    "        crm_id = crm_dict['crm_name']\n",
    "        unique_crm_phen.add(crm_id)\n",
    "print(\"Number of crm related with breast cancer\", len(unique_crm_phen))"
   ]
  },
  {
   "cell_type": "markdown",
   "id": "9b311528-ec65-4327-901f-b84ad01e5961",
   "metadata": {},
   "source": [
    "We will compare both results:"
   ]
  },
  {
   "cell_type": "code",
   "execution_count": 8,
   "id": "973386ce-1113-438e-8023-b1b74cf3f074",
   "metadata": {},
   "outputs": [
    {
     "data": {
      "text/plain": [
       "7893"
      ]
     },
     "execution_count": 8,
     "metadata": {},
     "output_type": "execute_result"
    }
   ],
   "source": [
    "compare = unique_crm_gene.symmetric_difference(unique_crm_phen)\n",
    "len(compare)"
   ]
  },
  {
   "cell_type": "markdown",
   "id": "2d62474a-572a-4981-856a-09be6d1fde1c",
   "metadata": {},
   "source": [
    "The number of crm linked to breast cancer either by affecting genes related to the phenotype or by being described as affecting the phenotype directly is 7893."
   ]
  },
  {
   "cell_type": "markdown",
   "id": "1034cfac-1372-4eb4-a0a8-9f52ed798201",
   "metadata": {},
   "source": [
    "Afterwards, we are going to search which genes are related with crms that were obtained with phen2crm funciton. We will use crm2gene function."
   ]
  },
  {
   "cell_type": "code",
   "execution_count": 9,
   "id": "72547ecc-79a3-4a35-b021-c6c847921252",
   "metadata": {},
   "outputs": [
    {
     "name": "stdout",
     "output_type": "stream",
     "text": [
      "Number of gene related with breast cancer related enhancers 76\n",
      "\n",
      "Databases which corroborates results: {'http://biocc.hrbmu.edu.cn/DiseaseEnhancer/', 'http://biocc.hrbmu.edu.cn/DiseaseEnhancer/; http://health.tsinghua.edu.cn/jianglab/endisease/'}\n"
     ]
    }
   ],
   "source": [
    "gene_crm=[]\n",
    "tfac_gene=[]\n",
    "for crm in unique_crm_phen:\n",
    "    gene_name=crm2gene(crm)\n",
    "    if gene_name != \"No data available for the introduced crm or you may have introduced an instance that is not a crm. Check your data type with type_data function.\":\n",
    "        gene_crm.append(gene_name)\n",
    "unique_gene_crm=set()\n",
    "unique_database=set()\n",
    "for gene in gene_crm:\n",
    "    for gene_dict in gene:\n",
    "        gene_id = gene_dict['gene_name']\n",
    "        gene_crm_database=gene_dict[\"database\"]\n",
    "        unique_gene_crm.add(gene_id)\n",
    "        unique_database.add(gene_crm_database)\n",
    "print(\"Number of gene related with breast cancer related enhancers\", len(unique_gene_crm))\n",
    "print(\"\")\n",
    "print(\"Databases which corroborates results:\", unique_database)"
   ]
  },
  {
   "cell_type": "code",
   "execution_count": 10,
   "id": "094c4467-2b31-419c-ba71-d2bdef6e28a1",
   "metadata": {},
   "outputs": [
    {
     "name": "stdout",
     "output_type": "stream",
     "text": [
      "Number of transcription factors that affect genes that are related with breast cancer related crms: 1017\n"
     ]
    }
   ],
   "source": [
    "tfac_gene = []\n",
    "\n",
    "for gene in unique_gene_crm:\n",
    "    tfac_name = gene2tfac(gene)\n",
    "    if tfac_name != \"No data available for the introduced gene or you may have introduced an instance that is not a gene. Check your data type with type_data function.\":\n",
    "        tfac_gene.append(tfac_name)\n",
    "unique_tfac = set()\n",
    "for tfac_result in tfac_gene:\n",
    "     if isinstance(tfac_result, tuple) and len(tfac_result) > 1 and isinstance(tfac_result[1], list):\n",
    "        for tfac_dict in tfac_result[1]:\n",
    "            if isinstance(tfac_dict, dict):\n",
    "                tfac_id = tfac_dict.get(\"tfac_name\")\n",
    "                if tfac_id:\n",
    "                    unique_tfac.add(tfac_id)\n",
    "print(\"Number of transcription factors that affect genes that are related with breast cancer related crms:\",len(unique_tfac))\n"
   ]
  },
  {
   "cell_type": "markdown",
   "id": "b6da241e-f545-4045-8b9d-d79e816df03d",
   "metadata": {},
   "source": [
    "Finally, we get that there are 76 genes that are affected by breast cancer related enhancers. And also, we obtained 1017 transcription factors releted with these genes."
   ]
  },
  {
   "cell_type": "code",
   "execution_count": 11,
   "id": "0a8787bf-acc0-455e-a7c5-977262bc52b9",
   "metadata": {},
   "outputs": [
    {
     "name": "stdout",
     "output_type": "stream",
     "text": [
      "Execution time: 273.73815512657166 seconds\n"
     ]
    }
   ],
   "source": [
    "end_time = time.time()\n",
    "execution_time = end_time - start_time\n",
    "print(f\"Execution time: {execution_time} seconds\")"
   ]
  }
 ],
 "metadata": {
  "kernelspec": {
   "display_name": "Python3.8",
   "language": "python",
   "name": "python3.8"
  },
  "language_info": {
   "codemirror_mode": {
    "name": "ipython",
    "version": 3
   },
   "file_extension": ".py",
   "mimetype": "text/x-python",
   "name": "python",
   "nbconvert_exporter": "python",
   "pygments_lexer": "ipython3",
   "version": "3.8.3"
  }
 },
 "nbformat": 4,
 "nbformat_minor": 5
}
