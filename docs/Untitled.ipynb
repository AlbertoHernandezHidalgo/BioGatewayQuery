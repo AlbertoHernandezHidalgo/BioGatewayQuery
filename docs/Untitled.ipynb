{
 "cells": [
  {
   "cell_type": "code",
   "execution_count": 1,
   "id": "b84a022b-20db-4177-b759-4cb9a3b12116",
   "metadata": {},
   "outputs": [
    {
     "ename": "ModuleNotFoundError",
     "evalue": "No module named 'BioGatewayQuery'",
     "output_type": "error",
     "traceback": [
      "\u001b[0;31m---------------------------------------------------------------------------\u001b[0m",
      "\u001b[0;31mModuleNotFoundError\u001b[0m                       Traceback (most recent call last)",
      "Cell \u001b[0;32mIn [1], line 1\u001b[0m\n\u001b[0;32m----> 1\u001b[0m \u001b[38;5;28;01mfrom\u001b[39;00m \u001b[38;5;21;01mBioGatewayQuery\u001b[39;00m \u001b[38;5;28;01mimport\u001b[39;00m getGene_info\n",
      "\u001b[0;31mModuleNotFoundError\u001b[0m: No module named 'BioGatewayQuery'"
     ]
    }
   ],
   "source": [
    "from BioGatewayQuery import getGene_info"
   ]
  }
 ],
 "metadata": {
  "kernelspec": {
   "display_name": "Python3.8",
   "language": "python",
   "name": "python3.8"
  },
  "language_info": {
   "codemirror_mode": {
    "name": "ipython",
    "version": 3
   },
   "file_extension": ".py",
   "mimetype": "text/x-python",
   "name": "python",
   "nbconvert_exporter": "python",
   "pygments_lexer": "ipython3",
   "version": "3.8.3"
  }
 },
 "nbformat": 4,
 "nbformat_minor": 5
}
