{
 "cells": [
  {
   "cell_type": "code",
   "execution_count": 1,
   "id": "a961a5e8-cffa-4651-9647-349cafe40b2c",
   "metadata": {},
   "outputs": [],
   "source": [
    "from BioGatewayQuery import *"
   ]
  },
  {
   "cell_type": "code",
   "execution_count": 3,
   "id": "17138fc2-cf8a-459c-bfa3-47169251fa42",
   "metadata": {},
   "outputs": [
    {
     "data": {
      "text/plain": [
       "{'start': '94376747',\n",
       " 'end': '94390654',\n",
       " 'strand': 'ReverseStrandPosition',\n",
       " 'chr': 'NC_000014.9',\n",
       " 'assembly': 'GCF_000001405.26',\n",
       " 'alt_gene_sources': 'ensembl/ENSG00000197249.14; ensembl/ENSG00000277377.4; ncbigene/5265',\n",
       " 'definition': 'gene 9606/SERPINA1 encoding [A0A0B4J278_HUMAN A0A0G2JRN3_HUMAN A1AT_HUMAN G3V2B9_HUMAN G3V387_HUMAN G3V4I7_HUMAN G3V544_HUMAN G3V5R8_HUMAN]'}"
      ]
     },
     "execution_count": 3,
     "metadata": {},
     "output_type": "execute_result"
    }
   ],
   "source": [
    "getGene_info(\"SERPINA1\",\"Homo sapiens\")"
   ]
  },
  {
   "cell_type": "code",
   "execution_count": 7,
   "id": "d0d4406b-3f1d-4512-acbc-cbe16eb356d0",
   "metadata": {},
   "outputs": [
    {
     "data": {
      "text/plain": [
       "[{'prot_name': 'A0A0B4J278_HUMAN'},\n",
       " {'prot_name': 'A0A0G2JRN3_HUMAN'},\n",
       " {'prot_name': 'G3V2B9_HUMAN'},\n",
       " {'prot_name': 'G3V387_HUMAN'},\n",
       " {'prot_name': 'G3V4I7_HUMAN'},\n",
       " {'prot_name': 'G3V544_HUMAN'},\n",
       " {'prot_name': 'G3V5R8_HUMAN'},\n",
       " {'prot_name': 'A1AT_HUMAN'}]"
      ]
     },
     "execution_count": 7,
     "metadata": {},
     "output_type": "execute_result"
    }
   ],
   "source": [
    "gene2protein(\"SERPINA1\",\"Homo sapiens\")"
   ]
  },
  {
   "cell_type": "code",
   "execution_count": 10,
   "id": "6069f029-ac81-4a4d-aed9-f397314aedc5",
   "metadata": {},
   "outputs": [
    {
     "name": "stdout",
     "output_type": "stream",
     "text": [
      "Protein A0A0B4J278_HUMAN\n",
      "Protein info: {'protein_alt_ids': 'A0A0B4J278; SERPINA1', 'definition': 'Alpha-1-antitrypsin (Serpin family A member 1)', 'evidence_level': '1.0', 'alt_sources': 'ensembl/ENSP00000452452.1; ensembl/ENSP00000486654.1', 'articles': 'pubmed/12508121; pubmed/21269460; pubmed/24275569'}\n",
      "\n",
      "Protein A0A0G2JRN3_HUMAN\n",
      "Protein info: {'protein_alt_ids': 'SERPINA1; A0A0G2JRN3', 'definition': 'Alpha-1-antitrypsin', 'evidence_level': '1.0', 'alt_sources': 'ensembl/ENSP00000486935.1', 'articles': 'pubmed/25944712; pubmed/21269460; pubmed/12508121; pubmed/24275569'}\n",
      "\n",
      "Protein G3V2B9_HUMAN\n",
      "Protein info: {'protein_alt_ids': 'G3V2B9; SERPINA1', 'definition': 'Serpin family A member 1', 'evidence_level': '1.0', 'alt_sources': 'ensembl/ENSP00000450561.1', 'articles': 'pubmed/12508121; pubmed/21269460; pubmed/24275569'}\n",
      "\n",
      "Protein G3V387_HUMAN\n",
      "Protein info: {'protein_alt_ids': 'G3V387; SERPINA1', 'definition': 'Alpha-1-antitrypsin (Serpin family A member 1)', 'evidence_level': '1.0', 'alt_sources': 'ensembl/ENSP00000451098.1; ensembl/ENSP00000486117.1', 'articles': 'pubmed/12508121; pubmed/21269460; pubmed/24275569'}\n",
      "\n",
      "Protein G3V4I7_HUMAN\n",
      "Protein info: {'protein_alt_ids': 'SERPINA1; G3V4I7', 'definition': 'Alpha-1-antitrypsin (Serpin family A member 1)', 'evidence_level': '1.0', 'alt_sources': 'ensembl/ENSP00000451826.1; ensembl/ENSP00000487293.1', 'articles': 'pubmed/12508121'}\n",
      "\n",
      "Protein G3V544_HUMAN\n",
      "Protein info: {'protein_alt_ids': 'G3V544; SERPINA1', 'definition': 'Alpha-1-antitrypsin (Serpin family A member 1)', 'evidence_level': '1.0', 'alt_sources': 'ensembl/ENSP00000452169.1; ensembl/ENSP00000487269.1', 'articles': 'pubmed/12508121; pubmed/21269460; pubmed/24275569'}\n",
      "\n",
      "Protein G3V5R8_HUMAN\n",
      "Protein info: {'protein_alt_ids': 'G3V5R8; SERPINA1', 'definition': 'Alpha-1-antitrypsin (Serpin family A member 1)', 'evidence_level': '1.0', 'alt_sources': 'ensembl/ENSP00000452480.1; ensembl/ENSP00000486467.1', 'articles': 'pubmed/12508121; pubmed/21269460; pubmed/24275569'}\n",
      "\n",
      "Protein A1AT_HUMAN\n",
      "Protein info: {'protein_alt_ids': 'P01009; AAT; SERPINA1; PI', 'definition': 'Alpha-1-antitrypsin (Alpha-1 protease inhibitor) (Alpha-1-antiproteinase) (Serpin A1) [Cleaved into: Short peptide from AAT (SPAAT)]', 'evidence_level': '5.0', 'alt_sources': 'ensembl/ENSP00000348068.4; ensembl/ENSP00000376802.4; ensembl/ENSP00000376803.4; ensembl/ENSP00000385960.4; ensembl/ENSP00000386094.1; ensembl/ENSP00000390299.1; ensembl/ENSP00000408474.1; ensembl/ENSP00000416066.1; ensembl/ENSP00000416354.3; ensembl/ENSP00000451525.1; ensembl/ENSP00000490054.1; refseq/XP_016876859.1', 'articles': 'pubmed/10612848; pubmed/10651487; pubmed/10716194; pubmed/10933492; pubmed/11057674; pubmed/11178897; pubmed/12244055; pubmed/12754519; pubmed/12860985; pubmed/1406456; pubmed/14760718; pubmed/15084671; pubmed/16263699; pubmed/16335952; pubmed/16622833; pubmed/17650587; pubmed/1859394; pubmed/1905728; pubmed/1906855; pubmed/19139490; pubmed/1967187; pubmed/19838169; pubmed/2035534; pubmed/22171320; pubmed/2227940; pubmed/2254451; pubmed/2309708; pubmed/2316526; pubmed/2339709; pubmed/23826168; pubmed/2390072; pubmed/2394452; pubmed/2606478; pubmed/26091039; pubmed/2669992; pubmed/26797521; pubmed/2784123; pubmed/2785270; pubmed/2786335; pubmed/2901226; pubmed/2985281; pubmed/31142615; pubmed/3262617; pubmed/3491072; pubmed/3533918; pubmed/3873938; pubmed/3876243; pubmed/6093867; pubmed/6319097; pubmed/6332197; pubmed/6387509; pubmed/6604220; pubmed/6979715; pubmed/7031661; pubmed/7045697; pubmed/7977369; pubmed/8323530; pubmed/8364590; pubmed/8543039; pubmed/8756325; pubmed/8939743; pubmed/9459000; pubmed/9466920; pubmed/19159218; pubmed/31358993; pubmed/14702039; pubmed/15489334; pubmed/21269460; pubmed/24275569; pubmed/25944712'}\n",
      "\n"
     ]
    }
   ],
   "source": [
    "protein=gene2protein(\"SERPINA1\",\"Homo sapiens\")\n",
    "for prot in protein:\n",
    "    prot_name=prot[\"prot_name\"]\n",
    "    prot_info=getProtein_info(prot_name)\n",
    "    print(f\"Protein {prot_name}\")\n",
    "    print(f\"Protein info: {prot_info}\\n\")"
   ]
  },
  {
   "cell_type": "code",
   "execution_count": 12,
   "id": "cf8cf6df-ee09-42df-adbd-a330e5e6868c",
   "metadata": {},
   "outputs": [
    {
     "name": "stdout",
     "output_type": "stream",
     "text": [
      "Protein A0A0B4J278_HUMAN\n",
      "Biological process: No data available for the introduced protein or you may have introduced an instance that is not a protein. Check your data type with type_data function.\n",
      "\n",
      "Protein A0A0G2JRN3_HUMAN\n",
      "Biological process: No data available for the introduced protein or you may have introduced an instance that is not a protein. Check your data type with type_data function.\n",
      "\n",
      "Protein G3V2B9_HUMAN\n",
      "Biological process: No data available for the introduced protein or you may have introduced an instance that is not a protein. Check your data type with type_data function.\n",
      "\n",
      "Protein G3V387_HUMAN\n",
      "Biological process: No data available for the introduced protein or you may have introduced an instance that is not a protein. Check your data type with type_data function.\n",
      "\n",
      "Protein G3V4I7_HUMAN\n",
      "Biological process: No data available for the introduced protein or you may have introduced an instance that is not a protein. Check your data type with type_data function.\n",
      "\n",
      "Protein G3V544_HUMAN\n",
      "Biological process: No data available for the introduced protein or you may have introduced an instance that is not a protein. Check your data type with type_data function.\n",
      "\n",
      "Protein G3V5R8_HUMAN\n",
      "Biological process: No data available for the introduced protein or you may have introduced an instance that is not a protein. Check your data type with type_data function.\n",
      "\n",
      "Protein A1AT_HUMAN\n",
      "Biological process: [{'mf_id': 'GO:0002020', 'mf_label': 'protease binding', 'relation_label': 'P01009--GO:0002020', 'database': 'goa/', 'articles': 'pubmed/15853774'}, {'mf_id': 'GO:0004867', 'mf_label': 'serine-type endopeptidase inhibitor activity', 'relation_label': 'P01009--GO:0004867', 'database': 'goa/', 'articles': 'pubmed/21873635; pubmed/12878203; pubmed/15795238'}, {'mf_id': 'GO:0005515', 'mf_label': 'protein binding', 'relation_label': 'P01009--GO:0005515', 'database': 'goa/', 'articles': 'pubmed/11057674; pubmed/12860985; pubmed/15845869; pubmed/16321984; pubmed/33741941; pubmed/17380188; pubmed/32814053; pubmed/12878203; pubmed/20477988; pubmed/16192646; pubmed/15271889; pubmed/31358993; pubmed/22115549; pubmed/31142615; pubmed/23826168'}, {'mf_id': 'GO:0042802', 'mf_label': 'identical protein binding', 'relation_label': 'P01009--GO:0042802', 'database': 'goa/', 'articles': 'pubmed/21909074; pubmed/18923394; pubmed/11057674; pubmed/22405009'}]\n",
      "\n"
     ]
    }
   ],
   "source": [
    "for prot in protein:\n",
    "    prot_name=prot['prot_name']\n",
    "    bp_results=prot2mf(prot_name)\n",
    "    print(f\"Protein {prot_name}\")\n",
    "    print(f\"Biological process: {bp_results}\\n\")"
   ]
  },
  {
   "cell_type": "code",
   "execution_count": 16,
   "id": "de444f66-c46f-49a9-b824-ccd4b1193010",
   "metadata": {},
   "outputs": [
    {
     "data": {
      "text/plain": [
       "'No data available for the introduced gene or you may have introduced an instance is not a gene. Check your data type with type_data function'"
      ]
     },
     "execution_count": 16,
     "metadata": {},
     "output_type": "execute_result"
    }
   ],
   "source": [
    "gene2phen(\"CXCL9\")"
   ]
  },
  {
   "cell_type": "code",
   "execution_count": 29,
   "id": "e8cc6445-ff52-49d7-89da-6954ad06adc5",
   "metadata": {},
   "outputs": [
    {
     "ename": "QueryBadFormed",
     "evalue": "QueryBadFormed: A bad request has been sent to the endpoint: probably the SPARQL query is badly formed. \n\nResponse:\nb\"Virtuoso 37000 Error SP030: SPARQL compiler, line 8: syntax error at 'fatty' before 'liver'\\n\\nSPARQL query:\\n#output-format:application/sparql-results+json\\n\\n        PREFIX omim: <http://purl.bioontology.org/ontology/OMIM/>\\n        PREFIX skos: <http://www.w3.org/2004/02/skos/core#>\\n        SELECT DISTINCT ?phen_label \\n        WHERE {\\n            GRAPH <http://rdf.biogateway.eu/graph/omim> {\\n                omim:non-alcoholic fatty liver disease skos:prefLabel ?phen_label\\n              \\n            }\\n        }\\n        \"",
     "output_type": "error",
     "traceback": [
      "\u001b[0;31m---------------------------------------------------------------------------\u001b[0m",
      "\u001b[0;31mHTTPError\u001b[0m                                 Traceback (most recent call last)",
      "File \u001b[0;32m~/.local/lib/python3.8/site-packages/SPARQLWrapper/Wrapper.py:926\u001b[0m, in \u001b[0;36mSPARQLWrapper._query\u001b[0;34m(self)\u001b[0m\n\u001b[1;32m    925\u001b[0m \u001b[38;5;28;01melse\u001b[39;00m:\n\u001b[0;32m--> 926\u001b[0m     response \u001b[38;5;241m=\u001b[39m \u001b[43murlopener\u001b[49m\u001b[43m(\u001b[49m\u001b[43mrequest\u001b[49m\u001b[43m)\u001b[49m\n\u001b[1;32m    927\u001b[0m \u001b[38;5;28;01mreturn\u001b[39;00m response, \u001b[38;5;28mself\u001b[39m\u001b[38;5;241m.\u001b[39mreturnFormat\n",
      "File \u001b[0;32m/usr/lib64/python3.8/urllib/request.py:222\u001b[0m, in \u001b[0;36murlopen\u001b[0;34m(url, data, timeout, cafile, capath, cadefault, context)\u001b[0m\n\u001b[1;32m    221\u001b[0m     opener \u001b[38;5;241m=\u001b[39m _opener\n\u001b[0;32m--> 222\u001b[0m \u001b[38;5;28;01mreturn\u001b[39;00m \u001b[43mopener\u001b[49m\u001b[38;5;241;43m.\u001b[39;49m\u001b[43mopen\u001b[49m\u001b[43m(\u001b[49m\u001b[43murl\u001b[49m\u001b[43m,\u001b[49m\u001b[43m \u001b[49m\u001b[43mdata\u001b[49m\u001b[43m,\u001b[49m\u001b[43m \u001b[49m\u001b[43mtimeout\u001b[49m\u001b[43m)\u001b[49m\n",
      "File \u001b[0;32m/usr/lib64/python3.8/urllib/request.py:531\u001b[0m, in \u001b[0;36mOpenerDirector.open\u001b[0;34m(self, fullurl, data, timeout)\u001b[0m\n\u001b[1;32m    530\u001b[0m     meth \u001b[38;5;241m=\u001b[39m \u001b[38;5;28mgetattr\u001b[39m(processor, meth_name)\n\u001b[0;32m--> 531\u001b[0m     response \u001b[38;5;241m=\u001b[39m \u001b[43mmeth\u001b[49m\u001b[43m(\u001b[49m\u001b[43mreq\u001b[49m\u001b[43m,\u001b[49m\u001b[43m \u001b[49m\u001b[43mresponse\u001b[49m\u001b[43m)\u001b[49m\n\u001b[1;32m    533\u001b[0m \u001b[38;5;28;01mreturn\u001b[39;00m response\n",
      "File \u001b[0;32m/usr/lib64/python3.8/urllib/request.py:640\u001b[0m, in \u001b[0;36mHTTPErrorProcessor.http_response\u001b[0;34m(self, request, response)\u001b[0m\n\u001b[1;32m    639\u001b[0m \u001b[38;5;28;01mif\u001b[39;00m \u001b[38;5;129;01mnot\u001b[39;00m (\u001b[38;5;241m200\u001b[39m \u001b[38;5;241m<\u001b[39m\u001b[38;5;241m=\u001b[39m code \u001b[38;5;241m<\u001b[39m \u001b[38;5;241m300\u001b[39m):\n\u001b[0;32m--> 640\u001b[0m     response \u001b[38;5;241m=\u001b[39m \u001b[38;5;28;43mself\u001b[39;49m\u001b[38;5;241;43m.\u001b[39;49m\u001b[43mparent\u001b[49m\u001b[38;5;241;43m.\u001b[39;49m\u001b[43merror\u001b[49m\u001b[43m(\u001b[49m\n\u001b[1;32m    641\u001b[0m \u001b[43m        \u001b[49m\u001b[38;5;124;43m'\u001b[39;49m\u001b[38;5;124;43mhttp\u001b[39;49m\u001b[38;5;124;43m'\u001b[39;49m\u001b[43m,\u001b[49m\u001b[43m \u001b[49m\u001b[43mrequest\u001b[49m\u001b[43m,\u001b[49m\u001b[43m \u001b[49m\u001b[43mresponse\u001b[49m\u001b[43m,\u001b[49m\u001b[43m \u001b[49m\u001b[43mcode\u001b[49m\u001b[43m,\u001b[49m\u001b[43m \u001b[49m\u001b[43mmsg\u001b[49m\u001b[43m,\u001b[49m\u001b[43m \u001b[49m\u001b[43mhdrs\u001b[49m\u001b[43m)\u001b[49m\n\u001b[1;32m    643\u001b[0m \u001b[38;5;28;01mreturn\u001b[39;00m response\n",
      "File \u001b[0;32m/usr/lib64/python3.8/urllib/request.py:569\u001b[0m, in \u001b[0;36mOpenerDirector.error\u001b[0;34m(self, proto, *args)\u001b[0m\n\u001b[1;32m    568\u001b[0m args \u001b[38;5;241m=\u001b[39m (\u001b[38;5;28mdict\u001b[39m, \u001b[38;5;124m'\u001b[39m\u001b[38;5;124mdefault\u001b[39m\u001b[38;5;124m'\u001b[39m, \u001b[38;5;124m'\u001b[39m\u001b[38;5;124mhttp_error_default\u001b[39m\u001b[38;5;124m'\u001b[39m) \u001b[38;5;241m+\u001b[39m orig_args\n\u001b[0;32m--> 569\u001b[0m \u001b[38;5;28;01mreturn\u001b[39;00m \u001b[38;5;28;43mself\u001b[39;49m\u001b[38;5;241;43m.\u001b[39;49m\u001b[43m_call_chain\u001b[49m\u001b[43m(\u001b[49m\u001b[38;5;241;43m*\u001b[39;49m\u001b[43margs\u001b[49m\u001b[43m)\u001b[49m\n",
      "File \u001b[0;32m/usr/lib64/python3.8/urllib/request.py:502\u001b[0m, in \u001b[0;36mOpenerDirector._call_chain\u001b[0;34m(self, chain, kind, meth_name, *args)\u001b[0m\n\u001b[1;32m    501\u001b[0m func \u001b[38;5;241m=\u001b[39m \u001b[38;5;28mgetattr\u001b[39m(handler, meth_name)\n\u001b[0;32m--> 502\u001b[0m result \u001b[38;5;241m=\u001b[39m \u001b[43mfunc\u001b[49m\u001b[43m(\u001b[49m\u001b[38;5;241;43m*\u001b[39;49m\u001b[43margs\u001b[49m\u001b[43m)\u001b[49m\n\u001b[1;32m    503\u001b[0m \u001b[38;5;28;01mif\u001b[39;00m result \u001b[38;5;129;01mis\u001b[39;00m \u001b[38;5;129;01mnot\u001b[39;00m \u001b[38;5;28;01mNone\u001b[39;00m:\n",
      "File \u001b[0;32m/usr/lib64/python3.8/urllib/request.py:649\u001b[0m, in \u001b[0;36mHTTPDefaultErrorHandler.http_error_default\u001b[0;34m(self, req, fp, code, msg, hdrs)\u001b[0m\n\u001b[1;32m    648\u001b[0m \u001b[38;5;28;01mdef\u001b[39;00m \u001b[38;5;21mhttp_error_default\u001b[39m(\u001b[38;5;28mself\u001b[39m, req, fp, code, msg, hdrs):\n\u001b[0;32m--> 649\u001b[0m     \u001b[38;5;28;01mraise\u001b[39;00m HTTPError(req\u001b[38;5;241m.\u001b[39mfull_url, code, msg, hdrs, fp)\n",
      "\u001b[0;31mHTTPError\u001b[0m: HTTP Error 400: Bad Request",
      "\nDuring handling of the above exception, another exception occurred:\n",
      "\u001b[0;31mQueryBadFormed\u001b[0m                            Traceback (most recent call last)",
      "Cell \u001b[0;32mIn [29], line 1\u001b[0m\n\u001b[0;32m----> 1\u001b[0m \u001b[43mgetPhenotype\u001b[49m\u001b[43m(\u001b[49m\u001b[38;5;124;43m\"\u001b[39;49m\u001b[38;5;124;43mnon-alcoholic fatty liver disease\u001b[39;49m\u001b[38;5;124;43m\"\u001b[39;49m\u001b[43m)\u001b[49m\n",
      "File \u001b[0;32m~/.local/lib/python3.8/site-packages/BioGatewayQuery/core.py:312\u001b[0m, in \u001b[0;36mgetPhenotype\u001b[0;34m(phenotype)\u001b[0m\n\u001b[1;32m    300\u001b[0m \u001b[38;5;28;01mif\u001b[39;00m \u001b[38;5;28mlen\u001b[39m(results) \u001b[38;5;241m==\u001b[39m \u001b[38;5;241m0\u001b[39m:\n\u001b[1;32m    301\u001b[0m     query_phen\u001b[38;5;241m=\u001b[39m\u001b[38;5;124m\"\"\"\u001b[39m\n\u001b[1;32m    302\u001b[0m \u001b[38;5;124m    PREFIX omim: <http://purl.bioontology.org/ontology/OMIM/>\u001b[39m\n\u001b[1;32m    303\u001b[0m \u001b[38;5;124m    PREFIX skos: <http://www.w3.org/2004/02/skos/core#>\u001b[39m\n\u001b[0;32m   (...)\u001b[0m\n\u001b[1;32m    310\u001b[0m \u001b[38;5;124m    }\u001b[39m\n\u001b[1;32m    311\u001b[0m \u001b[38;5;124m    \u001b[39m\u001b[38;5;124m\"\"\"\u001b[39m\u001b[38;5;241m%\u001b[39m(phenotype)\n\u001b[0;32m--> 312\u001b[0m     results\u001b[38;5;241m=\u001b[39m\u001b[43mdata_processing\u001b[49m\u001b[43m(\u001b[49m\u001b[43mquery_phen\u001b[49m\u001b[43m)\u001b[49m\n\u001b[1;32m    313\u001b[0m \u001b[38;5;28;01mif\u001b[39;00m \u001b[38;5;129;01mnot\u001b[39;00m results:\n\u001b[1;32m    314\u001b[0m     \u001b[38;5;28;01mreturn\u001b[39;00m \u001b[38;5;124m\"\u001b[39m\u001b[38;5;124mNo data available for the introduced phenotype or you may have introduced an instance that is not a phenotype. Check your data type with type_data function.\u001b[39m\u001b[38;5;124m\"\u001b[39m\n",
      "File \u001b[0;32m~/.local/lib/python3.8/site-packages/BioGatewayQuery/utils.py:13\u001b[0m, in \u001b[0;36mdata_processing\u001b[0;34m(consulta)\u001b[0m\n\u001b[1;32m     10\u001b[0m sparql\u001b[38;5;241m.\u001b[39msetReturnFormat(JSON)\n\u001b[1;32m     12\u001b[0m \u001b[38;5;66;03m# Realizar la primera consulta SPARQL para obtener información de las proteínas\u001b[39;00m\n\u001b[0;32m---> 13\u001b[0m resultados \u001b[38;5;241m=\u001b[39m \u001b[43msparql\u001b[49m\u001b[38;5;241;43m.\u001b[39;49m\u001b[43mquery\u001b[49m\u001b[43m(\u001b[49m\u001b[43m)\u001b[49m\u001b[38;5;241m.\u001b[39mconvert()\n\u001b[1;32m     15\u001b[0m \u001b[38;5;66;03m# Procesar resultados de la primera consulta\u001b[39;00m\n\u001b[1;32m     16\u001b[0m resultados_procesados \u001b[38;5;241m=\u001b[39m []\n",
      "File \u001b[0;32m~/.local/lib/python3.8/site-packages/SPARQLWrapper/Wrapper.py:960\u001b[0m, in \u001b[0;36mSPARQLWrapper.query\u001b[0;34m(self)\u001b[0m\n\u001b[1;32m    942\u001b[0m \u001b[38;5;28;01mdef\u001b[39;00m \u001b[38;5;21mquery\u001b[39m(\u001b[38;5;28mself\u001b[39m) \u001b[38;5;241m-\u001b[39m\u001b[38;5;241m>\u001b[39m \u001b[38;5;124m\"\u001b[39m\u001b[38;5;124mQueryResult\u001b[39m\u001b[38;5;124m\"\u001b[39m:\n\u001b[1;32m    943\u001b[0m     \u001b[38;5;124;03m\"\"\"\u001b[39;00m\n\u001b[1;32m    944\u001b[0m \u001b[38;5;124;03m    Execute the query.\u001b[39;00m\n\u001b[1;32m    945\u001b[0m \u001b[38;5;124;03m    Exceptions can be raised if either the URI is wrong or the HTTP sends back an error (this is also the\u001b[39;00m\n\u001b[0;32m   (...)\u001b[0m\n\u001b[1;32m    958\u001b[0m \u001b[38;5;124;03m    :rtype: :class:`QueryResult` instance\u001b[39;00m\n\u001b[1;32m    959\u001b[0m \u001b[38;5;124;03m    \"\"\"\u001b[39;00m\n\u001b[0;32m--> 960\u001b[0m     \u001b[38;5;28;01mreturn\u001b[39;00m QueryResult(\u001b[38;5;28;43mself\u001b[39;49m\u001b[38;5;241;43m.\u001b[39;49m\u001b[43m_query\u001b[49m\u001b[43m(\u001b[49m\u001b[43m)\u001b[49m)\n",
      "File \u001b[0;32m~/.local/lib/python3.8/site-packages/SPARQLWrapper/Wrapper.py:930\u001b[0m, in \u001b[0;36mSPARQLWrapper._query\u001b[0;34m(self)\u001b[0m\n\u001b[1;32m    928\u001b[0m \u001b[38;5;28;01mexcept\u001b[39;00m urllib\u001b[38;5;241m.\u001b[39merror\u001b[38;5;241m.\u001b[39mHTTPError \u001b[38;5;28;01mas\u001b[39;00m e:\n\u001b[1;32m    929\u001b[0m     \u001b[38;5;28;01mif\u001b[39;00m e\u001b[38;5;241m.\u001b[39mcode \u001b[38;5;241m==\u001b[39m \u001b[38;5;241m400\u001b[39m:\n\u001b[0;32m--> 930\u001b[0m         \u001b[38;5;28;01mraise\u001b[39;00m QueryBadFormed(e\u001b[38;5;241m.\u001b[39mread())\n\u001b[1;32m    931\u001b[0m     \u001b[38;5;28;01melif\u001b[39;00m e\u001b[38;5;241m.\u001b[39mcode \u001b[38;5;241m==\u001b[39m \u001b[38;5;241m404\u001b[39m:\n\u001b[1;32m    932\u001b[0m         \u001b[38;5;28;01mraise\u001b[39;00m EndPointNotFound(e\u001b[38;5;241m.\u001b[39mread())\n",
      "\u001b[0;31mQueryBadFormed\u001b[0m: QueryBadFormed: A bad request has been sent to the endpoint: probably the SPARQL query is badly formed. \n\nResponse:\nb\"Virtuoso 37000 Error SP030: SPARQL compiler, line 8: syntax error at 'fatty' before 'liver'\\n\\nSPARQL query:\\n#output-format:application/sparql-results+json\\n\\n        PREFIX omim: <http://purl.bioontology.org/ontology/OMIM/>\\n        PREFIX skos: <http://www.w3.org/2004/02/skos/core#>\\n        SELECT DISTINCT ?phen_label \\n        WHERE {\\n            GRAPH <http://rdf.biogateway.eu/graph/omim> {\\n                omim:non-alcoholic fatty liver disease skos:prefLabel ?phen_label\\n              \\n            }\\n        }\\n        \""
     ]
    }
   ],
   "source": [
    "getPhenotype(\"non-alcoholic fatty liver disease\")"
   ]
  },
  {
   "cell_type": "code",
   "execution_count": 28,
   "id": "41083f1c-5b49-4949-8c3e-976b816604b1",
   "metadata": {},
   "outputs": [
    {
     "ename": "QueryBadFormed",
     "evalue": "QueryBadFormed: A bad request has been sent to the endpoint: probably the SPARQL query is badly formed. \n\nResponse:\nb\"Virtuoso 37000 Error SP030: SPARQL compiler, line 9: syntax error at 'cancer' before '.'\\n\\nSPARQL query:\\n#output-format:application/sparql-results+json\\n\\n        PREFIX omim: <http://purl.bioontology.org/ontology/OMIM/>\\n        PREFIX skos: <http://www.w3.org/2004/02/skos/core#>\\n        PREFIX obo: <http://purl.obolibrary.org/obo/>\\n        SELECT DISTINCT ?gene_name\\n        WHERE {\\n            GRAPH  <http://rdf.biogateway.eu/graph/gene2phen> {\\n                ?gene obo:RO_0002331 omim:kidneys cancer .\\n           }\\n            GRAPH <http://rdf.biogateway.eu/graph/gene> {\\n                ?gene skos:prefLabel ?gene_name.  \\n        }\\n        }\\n        \"",
     "output_type": "error",
     "traceback": [
      "\u001b[0;31m---------------------------------------------------------------------------\u001b[0m",
      "\u001b[0;31mHTTPError\u001b[0m                                 Traceback (most recent call last)",
      "File \u001b[0;32m~/.local/lib/python3.8/site-packages/SPARQLWrapper/Wrapper.py:926\u001b[0m, in \u001b[0;36mSPARQLWrapper._query\u001b[0;34m(self)\u001b[0m\n\u001b[1;32m    925\u001b[0m \u001b[38;5;28;01melse\u001b[39;00m:\n\u001b[0;32m--> 926\u001b[0m     response \u001b[38;5;241m=\u001b[39m \u001b[43murlopener\u001b[49m\u001b[43m(\u001b[49m\u001b[43mrequest\u001b[49m\u001b[43m)\u001b[49m\n\u001b[1;32m    927\u001b[0m \u001b[38;5;28;01mreturn\u001b[39;00m response, \u001b[38;5;28mself\u001b[39m\u001b[38;5;241m.\u001b[39mreturnFormat\n",
      "File \u001b[0;32m/usr/lib64/python3.8/urllib/request.py:222\u001b[0m, in \u001b[0;36murlopen\u001b[0;34m(url, data, timeout, cafile, capath, cadefault, context)\u001b[0m\n\u001b[1;32m    221\u001b[0m     opener \u001b[38;5;241m=\u001b[39m _opener\n\u001b[0;32m--> 222\u001b[0m \u001b[38;5;28;01mreturn\u001b[39;00m \u001b[43mopener\u001b[49m\u001b[38;5;241;43m.\u001b[39;49m\u001b[43mopen\u001b[49m\u001b[43m(\u001b[49m\u001b[43murl\u001b[49m\u001b[43m,\u001b[49m\u001b[43m \u001b[49m\u001b[43mdata\u001b[49m\u001b[43m,\u001b[49m\u001b[43m \u001b[49m\u001b[43mtimeout\u001b[49m\u001b[43m)\u001b[49m\n",
      "File \u001b[0;32m/usr/lib64/python3.8/urllib/request.py:531\u001b[0m, in \u001b[0;36mOpenerDirector.open\u001b[0;34m(self, fullurl, data, timeout)\u001b[0m\n\u001b[1;32m    530\u001b[0m     meth \u001b[38;5;241m=\u001b[39m \u001b[38;5;28mgetattr\u001b[39m(processor, meth_name)\n\u001b[0;32m--> 531\u001b[0m     response \u001b[38;5;241m=\u001b[39m \u001b[43mmeth\u001b[49m\u001b[43m(\u001b[49m\u001b[43mreq\u001b[49m\u001b[43m,\u001b[49m\u001b[43m \u001b[49m\u001b[43mresponse\u001b[49m\u001b[43m)\u001b[49m\n\u001b[1;32m    533\u001b[0m \u001b[38;5;28;01mreturn\u001b[39;00m response\n",
      "File \u001b[0;32m/usr/lib64/python3.8/urllib/request.py:640\u001b[0m, in \u001b[0;36mHTTPErrorProcessor.http_response\u001b[0;34m(self, request, response)\u001b[0m\n\u001b[1;32m    639\u001b[0m \u001b[38;5;28;01mif\u001b[39;00m \u001b[38;5;129;01mnot\u001b[39;00m (\u001b[38;5;241m200\u001b[39m \u001b[38;5;241m<\u001b[39m\u001b[38;5;241m=\u001b[39m code \u001b[38;5;241m<\u001b[39m \u001b[38;5;241m300\u001b[39m):\n\u001b[0;32m--> 640\u001b[0m     response \u001b[38;5;241m=\u001b[39m \u001b[38;5;28;43mself\u001b[39;49m\u001b[38;5;241;43m.\u001b[39;49m\u001b[43mparent\u001b[49m\u001b[38;5;241;43m.\u001b[39;49m\u001b[43merror\u001b[49m\u001b[43m(\u001b[49m\n\u001b[1;32m    641\u001b[0m \u001b[43m        \u001b[49m\u001b[38;5;124;43m'\u001b[39;49m\u001b[38;5;124;43mhttp\u001b[39;49m\u001b[38;5;124;43m'\u001b[39;49m\u001b[43m,\u001b[49m\u001b[43m \u001b[49m\u001b[43mrequest\u001b[49m\u001b[43m,\u001b[49m\u001b[43m \u001b[49m\u001b[43mresponse\u001b[49m\u001b[43m,\u001b[49m\u001b[43m \u001b[49m\u001b[43mcode\u001b[49m\u001b[43m,\u001b[49m\u001b[43m \u001b[49m\u001b[43mmsg\u001b[49m\u001b[43m,\u001b[49m\u001b[43m \u001b[49m\u001b[43mhdrs\u001b[49m\u001b[43m)\u001b[49m\n\u001b[1;32m    643\u001b[0m \u001b[38;5;28;01mreturn\u001b[39;00m response\n",
      "File \u001b[0;32m/usr/lib64/python3.8/urllib/request.py:569\u001b[0m, in \u001b[0;36mOpenerDirector.error\u001b[0;34m(self, proto, *args)\u001b[0m\n\u001b[1;32m    568\u001b[0m args \u001b[38;5;241m=\u001b[39m (\u001b[38;5;28mdict\u001b[39m, \u001b[38;5;124m'\u001b[39m\u001b[38;5;124mdefault\u001b[39m\u001b[38;5;124m'\u001b[39m, \u001b[38;5;124m'\u001b[39m\u001b[38;5;124mhttp_error_default\u001b[39m\u001b[38;5;124m'\u001b[39m) \u001b[38;5;241m+\u001b[39m orig_args\n\u001b[0;32m--> 569\u001b[0m \u001b[38;5;28;01mreturn\u001b[39;00m \u001b[38;5;28;43mself\u001b[39;49m\u001b[38;5;241;43m.\u001b[39;49m\u001b[43m_call_chain\u001b[49m\u001b[43m(\u001b[49m\u001b[38;5;241;43m*\u001b[39;49m\u001b[43margs\u001b[49m\u001b[43m)\u001b[49m\n",
      "File \u001b[0;32m/usr/lib64/python3.8/urllib/request.py:502\u001b[0m, in \u001b[0;36mOpenerDirector._call_chain\u001b[0;34m(self, chain, kind, meth_name, *args)\u001b[0m\n\u001b[1;32m    501\u001b[0m func \u001b[38;5;241m=\u001b[39m \u001b[38;5;28mgetattr\u001b[39m(handler, meth_name)\n\u001b[0;32m--> 502\u001b[0m result \u001b[38;5;241m=\u001b[39m \u001b[43mfunc\u001b[49m\u001b[43m(\u001b[49m\u001b[38;5;241;43m*\u001b[39;49m\u001b[43margs\u001b[49m\u001b[43m)\u001b[49m\n\u001b[1;32m    503\u001b[0m \u001b[38;5;28;01mif\u001b[39;00m result \u001b[38;5;129;01mis\u001b[39;00m \u001b[38;5;129;01mnot\u001b[39;00m \u001b[38;5;28;01mNone\u001b[39;00m:\n",
      "File \u001b[0;32m/usr/lib64/python3.8/urllib/request.py:649\u001b[0m, in \u001b[0;36mHTTPDefaultErrorHandler.http_error_default\u001b[0;34m(self, req, fp, code, msg, hdrs)\u001b[0m\n\u001b[1;32m    648\u001b[0m \u001b[38;5;28;01mdef\u001b[39;00m \u001b[38;5;21mhttp_error_default\u001b[39m(\u001b[38;5;28mself\u001b[39m, req, fp, code, msg, hdrs):\n\u001b[0;32m--> 649\u001b[0m     \u001b[38;5;28;01mraise\u001b[39;00m HTTPError(req\u001b[38;5;241m.\u001b[39mfull_url, code, msg, hdrs, fp)\n",
      "\u001b[0;31mHTTPError\u001b[0m: HTTP Error 400: Bad Request",
      "\nDuring handling of the above exception, another exception occurred:\n",
      "\u001b[0;31mQueryBadFormed\u001b[0m                            Traceback (most recent call last)",
      "Cell \u001b[0;32mIn [28], line 1\u001b[0m\n\u001b[0;32m----> 1\u001b[0m \u001b[43mphen2gene\u001b[49m\u001b[43m(\u001b[49m\u001b[38;5;124;43m\"\u001b[39;49m\u001b[38;5;124;43mkidneys cancer\u001b[39;49m\u001b[38;5;124;43m\"\u001b[39;49m\u001b[43m)\u001b[49m\n",
      "File \u001b[0;32m~/.local/lib/python3.8/site-packages/BioGatewayQuery/core.py:736\u001b[0m, in \u001b[0;36mphen2gene\u001b[0;34m(phenotype)\u001b[0m\n\u001b[1;32m    721\u001b[0m \u001b[38;5;28;01mif\u001b[39;00m \u001b[38;5;28mlen\u001b[39m(results) \u001b[38;5;241m==\u001b[39m \u001b[38;5;241m0\u001b[39m:\n\u001b[1;32m    722\u001b[0m     query_phen\u001b[38;5;241m=\u001b[39m\u001b[38;5;124m\"\"\"\u001b[39m\n\u001b[1;32m    723\u001b[0m \u001b[38;5;124m    PREFIX omim: <http://purl.bioontology.org/ontology/OMIM/>\u001b[39m\n\u001b[1;32m    724\u001b[0m \u001b[38;5;124m    PREFIX skos: <http://www.w3.org/2004/02/skos/core#>\u001b[39m\n\u001b[0;32m   (...)\u001b[0m\n\u001b[1;32m    734\u001b[0m \u001b[38;5;124m    }\u001b[39m\n\u001b[1;32m    735\u001b[0m \u001b[38;5;124m    \u001b[39m\u001b[38;5;124m\"\"\"\u001b[39m\u001b[38;5;241m%\u001b[39m(phenotype)\n\u001b[0;32m--> 736\u001b[0m     results\u001b[38;5;241m=\u001b[39m\u001b[43mdata_processing\u001b[49m\u001b[43m(\u001b[49m\u001b[43mquery_phen\u001b[49m\u001b[43m)\u001b[49m\n\u001b[1;32m    737\u001b[0m \u001b[38;5;28;01mif\u001b[39;00m \u001b[38;5;28mlen\u001b[39m(results)\u001b[38;5;241m==\u001b[39m \u001b[38;5;241m0\u001b[39m:\n\u001b[1;32m    738\u001b[0m     \u001b[38;5;28;01mreturn\u001b[39;00m \u001b[38;5;124m\"\u001b[39m\u001b[38;5;124mNo data available for the introduced phenotype or you may have introduced an instance that is not a phenotype. Check your data type with type_data function\u001b[39m\u001b[38;5;124m\"\u001b[39m\n",
      "File \u001b[0;32m~/.local/lib/python3.8/site-packages/BioGatewayQuery/utils.py:13\u001b[0m, in \u001b[0;36mdata_processing\u001b[0;34m(consulta)\u001b[0m\n\u001b[1;32m     10\u001b[0m sparql\u001b[38;5;241m.\u001b[39msetReturnFormat(JSON)\n\u001b[1;32m     12\u001b[0m \u001b[38;5;66;03m# Realizar la primera consulta SPARQL para obtener información de las proteínas\u001b[39;00m\n\u001b[0;32m---> 13\u001b[0m resultados \u001b[38;5;241m=\u001b[39m \u001b[43msparql\u001b[49m\u001b[38;5;241;43m.\u001b[39;49m\u001b[43mquery\u001b[49m\u001b[43m(\u001b[49m\u001b[43m)\u001b[49m\u001b[38;5;241m.\u001b[39mconvert()\n\u001b[1;32m     15\u001b[0m \u001b[38;5;66;03m# Procesar resultados de la primera consulta\u001b[39;00m\n\u001b[1;32m     16\u001b[0m resultados_procesados \u001b[38;5;241m=\u001b[39m []\n",
      "File \u001b[0;32m~/.local/lib/python3.8/site-packages/SPARQLWrapper/Wrapper.py:960\u001b[0m, in \u001b[0;36mSPARQLWrapper.query\u001b[0;34m(self)\u001b[0m\n\u001b[1;32m    942\u001b[0m \u001b[38;5;28;01mdef\u001b[39;00m \u001b[38;5;21mquery\u001b[39m(\u001b[38;5;28mself\u001b[39m) \u001b[38;5;241m-\u001b[39m\u001b[38;5;241m>\u001b[39m \u001b[38;5;124m\"\u001b[39m\u001b[38;5;124mQueryResult\u001b[39m\u001b[38;5;124m\"\u001b[39m:\n\u001b[1;32m    943\u001b[0m     \u001b[38;5;124;03m\"\"\"\u001b[39;00m\n\u001b[1;32m    944\u001b[0m \u001b[38;5;124;03m    Execute the query.\u001b[39;00m\n\u001b[1;32m    945\u001b[0m \u001b[38;5;124;03m    Exceptions can be raised if either the URI is wrong or the HTTP sends back an error (this is also the\u001b[39;00m\n\u001b[0;32m   (...)\u001b[0m\n\u001b[1;32m    958\u001b[0m \u001b[38;5;124;03m    :rtype: :class:`QueryResult` instance\u001b[39;00m\n\u001b[1;32m    959\u001b[0m \u001b[38;5;124;03m    \"\"\"\u001b[39;00m\n\u001b[0;32m--> 960\u001b[0m     \u001b[38;5;28;01mreturn\u001b[39;00m QueryResult(\u001b[38;5;28;43mself\u001b[39;49m\u001b[38;5;241;43m.\u001b[39;49m\u001b[43m_query\u001b[49m\u001b[43m(\u001b[49m\u001b[43m)\u001b[49m)\n",
      "File \u001b[0;32m~/.local/lib/python3.8/site-packages/SPARQLWrapper/Wrapper.py:930\u001b[0m, in \u001b[0;36mSPARQLWrapper._query\u001b[0;34m(self)\u001b[0m\n\u001b[1;32m    928\u001b[0m \u001b[38;5;28;01mexcept\u001b[39;00m urllib\u001b[38;5;241m.\u001b[39merror\u001b[38;5;241m.\u001b[39mHTTPError \u001b[38;5;28;01mas\u001b[39;00m e:\n\u001b[1;32m    929\u001b[0m     \u001b[38;5;28;01mif\u001b[39;00m e\u001b[38;5;241m.\u001b[39mcode \u001b[38;5;241m==\u001b[39m \u001b[38;5;241m400\u001b[39m:\n\u001b[0;32m--> 930\u001b[0m         \u001b[38;5;28;01mraise\u001b[39;00m QueryBadFormed(e\u001b[38;5;241m.\u001b[39mread())\n\u001b[1;32m    931\u001b[0m     \u001b[38;5;28;01melif\u001b[39;00m e\u001b[38;5;241m.\u001b[39mcode \u001b[38;5;241m==\u001b[39m \u001b[38;5;241m404\u001b[39m:\n\u001b[1;32m    932\u001b[0m         \u001b[38;5;28;01mraise\u001b[39;00m EndPointNotFound(e\u001b[38;5;241m.\u001b[39mread())\n",
      "\u001b[0;31mQueryBadFormed\u001b[0m: QueryBadFormed: A bad request has been sent to the endpoint: probably the SPARQL query is badly formed. \n\nResponse:\nb\"Virtuoso 37000 Error SP030: SPARQL compiler, line 9: syntax error at 'cancer' before '.'\\n\\nSPARQL query:\\n#output-format:application/sparql-results+json\\n\\n        PREFIX omim: <http://purl.bioontology.org/ontology/OMIM/>\\n        PREFIX skos: <http://www.w3.org/2004/02/skos/core#>\\n        PREFIX obo: <http://purl.obolibrary.org/obo/>\\n        SELECT DISTINCT ?gene_name\\n        WHERE {\\n            GRAPH  <http://rdf.biogateway.eu/graph/gene2phen> {\\n                ?gene obo:RO_0002331 omim:kidneys cancer .\\n           }\\n            GRAPH <http://rdf.biogateway.eu/graph/gene> {\\n                ?gene skos:prefLabel ?gene_name.  \\n        }\\n        }\\n        \""
     ]
    }
   ],
   "source": [
    "phen2gene(\"kidneys cancer\")"
   ]
  }
 ],
 "metadata": {
  "kernelspec": {
   "display_name": "Python3.8",
   "language": "python",
   "name": "python3.8"
  },
  "language_info": {
   "codemirror_mode": {
    "name": "ipython",
    "version": 3
   },
   "file_extension": ".py",
   "mimetype": "text/x-python",
   "name": "python",
   "nbconvert_exporter": "python",
   "pygments_lexer": "ipython3",
   "version": "3.8.3"
  }
 },
 "nbformat": 4,
 "nbformat_minor": 5
}
