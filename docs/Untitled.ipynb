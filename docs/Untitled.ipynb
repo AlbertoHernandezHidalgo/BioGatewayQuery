{
 "cells": [
  {
   "cell_type": "code",
   "execution_count": 1,
   "id": "a961a5e8-cffa-4651-9647-349cafe40b2c",
   "metadata": {},
   "outputs": [],
   "source": [
    "from PyBioGateway import *"
   ]
  },
  {
   "cell_type": "code",
   "execution_count": 2,
   "id": "17138fc2-cf8a-459c-bfa3-47169251fa42",
   "metadata": {},
   "outputs": [
    {
     "data": {
      "text/plain": [
       "{'start': '94376747',\n",
       " 'end': '94390654',\n",
       " 'strand': 'ReverseStrandPosition',\n",
       " 'chr': 'NC_000014.9',\n",
       " 'assembly': 'GCF_000001405.26',\n",
       " 'alt_gene_sources': 'ensembl/ENSG00000197249.14; ensembl/ENSG00000277377.4; ncbigene/5265',\n",
       " 'definition': 'gene 9606/SERPINA1 encoding [A0A0B4J278_HUMAN A0A0G2JRN3_HUMAN A1AT_HUMAN G3V2B9_HUMAN G3V387_HUMAN G3V4I7_HUMAN G3V544_HUMAN G3V5R8_HUMAN]'}"
      ]
     },
     "execution_count": 2,
     "metadata": {},
     "output_type": "execute_result"
    }
   ],
   "source": [
    "getGene_info(\"SERPINA1\",\"Homo sapiens\")"
   ]
  },
  {
   "cell_type": "code",
   "execution_count": 7,
   "id": "d0d4406b-3f1d-4512-acbc-cbe16eb356d0",
   "metadata": {},
   "outputs": [
    {
     "data": {
      "text/plain": [
       "[{'prot_name': 'A0A0B4J278_HUMAN'},\n",
       " {'prot_name': 'A0A0G2JRN3_HUMAN'},\n",
       " {'prot_name': 'G3V2B9_HUMAN'},\n",
       " {'prot_name': 'G3V387_HUMAN'},\n",
       " {'prot_name': 'G3V4I7_HUMAN'},\n",
       " {'prot_name': 'G3V544_HUMAN'},\n",
       " {'prot_name': 'G3V5R8_HUMAN'},\n",
       " {'prot_name': 'A1AT_HUMAN'}]"
      ]
     },
     "execution_count": 7,
     "metadata": {},
     "output_type": "execute_result"
    }
   ],
   "source": [
    "gene2protein(\"SERPINA1\",\"Homo sapiens\")"
   ]
  },
  {
   "cell_type": "code",
   "execution_count": 10,
   "id": "6069f029-ac81-4a4d-aed9-f397314aedc5",
   "metadata": {},
   "outputs": [
    {
     "name": "stdout",
     "output_type": "stream",
     "text": [
      "Protein A0A0B4J278_HUMAN\n",
      "Protein info: {'protein_alt_ids': 'A0A0B4J278; SERPINA1', 'definition': 'Alpha-1-antitrypsin (Serpin family A member 1)', 'evidence_level': '1.0', 'alt_sources': 'ensembl/ENSP00000452452.1; ensembl/ENSP00000486654.1', 'articles': 'pubmed/12508121; pubmed/21269460; pubmed/24275569'}\n",
      "\n",
      "Protein A0A0G2JRN3_HUMAN\n",
      "Protein info: {'protein_alt_ids': 'SERPINA1; A0A0G2JRN3', 'definition': 'Alpha-1-antitrypsin', 'evidence_level': '1.0', 'alt_sources': 'ensembl/ENSP00000486935.1', 'articles': 'pubmed/25944712; pubmed/21269460; pubmed/12508121; pubmed/24275569'}\n",
      "\n",
      "Protein G3V2B9_HUMAN\n",
      "Protein info: {'protein_alt_ids': 'G3V2B9; SERPINA1', 'definition': 'Serpin family A member 1', 'evidence_level': '1.0', 'alt_sources': 'ensembl/ENSP00000450561.1', 'articles': 'pubmed/12508121; pubmed/21269460; pubmed/24275569'}\n",
      "\n",
      "Protein G3V387_HUMAN\n",
      "Protein info: {'protein_alt_ids': 'G3V387; SERPINA1', 'definition': 'Alpha-1-antitrypsin (Serpin family A member 1)', 'evidence_level': '1.0', 'alt_sources': 'ensembl/ENSP00000451098.1; ensembl/ENSP00000486117.1', 'articles': 'pubmed/12508121; pubmed/21269460; pubmed/24275569'}\n",
      "\n",
      "Protein G3V4I7_HUMAN\n",
      "Protein info: {'protein_alt_ids': 'SERPINA1; G3V4I7', 'definition': 'Alpha-1-antitrypsin (Serpin family A member 1)', 'evidence_level': '1.0', 'alt_sources': 'ensembl/ENSP00000451826.1; ensembl/ENSP00000487293.1', 'articles': 'pubmed/12508121'}\n",
      "\n",
      "Protein G3V544_HUMAN\n",
      "Protein info: {'protein_alt_ids': 'G3V544; SERPINA1', 'definition': 'Alpha-1-antitrypsin (Serpin family A member 1)', 'evidence_level': '1.0', 'alt_sources': 'ensembl/ENSP00000452169.1; ensembl/ENSP00000487269.1', 'articles': 'pubmed/12508121; pubmed/21269460; pubmed/24275569'}\n",
      "\n",
      "Protein G3V5R8_HUMAN\n",
      "Protein info: {'protein_alt_ids': 'G3V5R8; SERPINA1', 'definition': 'Alpha-1-antitrypsin (Serpin family A member 1)', 'evidence_level': '1.0', 'alt_sources': 'ensembl/ENSP00000452480.1; ensembl/ENSP00000486467.1', 'articles': 'pubmed/12508121; pubmed/21269460; pubmed/24275569'}\n",
      "\n",
      "Protein A1AT_HUMAN\n",
      "Protein info: {'protein_alt_ids': 'P01009; AAT; SERPINA1; PI', 'definition': 'Alpha-1-antitrypsin (Alpha-1 protease inhibitor) (Alpha-1-antiproteinase) (Serpin A1) [Cleaved into: Short peptide from AAT (SPAAT)]', 'evidence_level': '5.0', 'alt_sources': 'ensembl/ENSP00000348068.4; ensembl/ENSP00000376802.4; ensembl/ENSP00000376803.4; ensembl/ENSP00000385960.4; ensembl/ENSP00000386094.1; ensembl/ENSP00000390299.1; ensembl/ENSP00000408474.1; ensembl/ENSP00000416066.1; ensembl/ENSP00000416354.3; ensembl/ENSP00000451525.1; ensembl/ENSP00000490054.1; refseq/XP_016876859.1', 'articles': 'pubmed/10612848; pubmed/10651487; pubmed/10716194; pubmed/10933492; pubmed/11057674; pubmed/11178897; pubmed/12244055; pubmed/12754519; pubmed/12860985; pubmed/1406456; pubmed/14760718; pubmed/15084671; pubmed/16263699; pubmed/16335952; pubmed/16622833; pubmed/17650587; pubmed/1859394; pubmed/1905728; pubmed/1906855; pubmed/19139490; pubmed/1967187; pubmed/19838169; pubmed/2035534; pubmed/22171320; pubmed/2227940; pubmed/2254451; pubmed/2309708; pubmed/2316526; pubmed/2339709; pubmed/23826168; pubmed/2390072; pubmed/2394452; pubmed/2606478; pubmed/26091039; pubmed/2669992; pubmed/26797521; pubmed/2784123; pubmed/2785270; pubmed/2786335; pubmed/2901226; pubmed/2985281; pubmed/31142615; pubmed/3262617; pubmed/3491072; pubmed/3533918; pubmed/3873938; pubmed/3876243; pubmed/6093867; pubmed/6319097; pubmed/6332197; pubmed/6387509; pubmed/6604220; pubmed/6979715; pubmed/7031661; pubmed/7045697; pubmed/7977369; pubmed/8323530; pubmed/8364590; pubmed/8543039; pubmed/8756325; pubmed/8939743; pubmed/9459000; pubmed/9466920; pubmed/19159218; pubmed/31358993; pubmed/14702039; pubmed/15489334; pubmed/21269460; pubmed/24275569; pubmed/25944712'}\n",
      "\n"
     ]
    }
   ],
   "source": [
    "protein=gene2protein(\"SERPINA1\",\"Homo sapiens\")\n",
    "for prot in protein:\n",
    "    prot_name=prot[\"prot_name\"]\n",
    "    prot_info=getProtein_info(prot_name)\n",
    "    print(f\"Protein {prot_name}\")\n",
    "    print(f\"Protein info: {prot_info}\\n\")"
   ]
  },
  {
   "cell_type": "code",
   "execution_count": 12,
   "id": "cf8cf6df-ee09-42df-adbd-a330e5e6868c",
   "metadata": {},
   "outputs": [
    {
     "name": "stdout",
     "output_type": "stream",
     "text": [
      "Protein A0A0B4J278_HUMAN\n",
      "Biological process: No data available for the introduced protein or you may have introduced an instance that is not a protein. Check your data type with type_data function.\n",
      "\n",
      "Protein A0A0G2JRN3_HUMAN\n",
      "Biological process: No data available for the introduced protein or you may have introduced an instance that is not a protein. Check your data type with type_data function.\n",
      "\n",
      "Protein G3V2B9_HUMAN\n",
      "Biological process: No data available for the introduced protein or you may have introduced an instance that is not a protein. Check your data type with type_data function.\n",
      "\n",
      "Protein G3V387_HUMAN\n",
      "Biological process: No data available for the introduced protein or you may have introduced an instance that is not a protein. Check your data type with type_data function.\n",
      "\n",
      "Protein G3V4I7_HUMAN\n",
      "Biological process: No data available for the introduced protein or you may have introduced an instance that is not a protein. Check your data type with type_data function.\n",
      "\n",
      "Protein G3V544_HUMAN\n",
      "Biological process: No data available for the introduced protein or you may have introduced an instance that is not a protein. Check your data type with type_data function.\n",
      "\n",
      "Protein G3V5R8_HUMAN\n",
      "Biological process: No data available for the introduced protein or you may have introduced an instance that is not a protein. Check your data type with type_data function.\n",
      "\n",
      "Protein A1AT_HUMAN\n",
      "Biological process: [{'mf_id': 'GO:0002020', 'mf_label': 'protease binding', 'relation_label': 'P01009--GO:0002020', 'database': 'goa/', 'articles': 'pubmed/15853774'}, {'mf_id': 'GO:0004867', 'mf_label': 'serine-type endopeptidase inhibitor activity', 'relation_label': 'P01009--GO:0004867', 'database': 'goa/', 'articles': 'pubmed/21873635; pubmed/12878203; pubmed/15795238'}, {'mf_id': 'GO:0005515', 'mf_label': 'protein binding', 'relation_label': 'P01009--GO:0005515', 'database': 'goa/', 'articles': 'pubmed/11057674; pubmed/12860985; pubmed/15845869; pubmed/16321984; pubmed/33741941; pubmed/17380188; pubmed/32814053; pubmed/12878203; pubmed/20477988; pubmed/16192646; pubmed/15271889; pubmed/31358993; pubmed/22115549; pubmed/31142615; pubmed/23826168'}, {'mf_id': 'GO:0042802', 'mf_label': 'identical protein binding', 'relation_label': 'P01009--GO:0042802', 'database': 'goa/', 'articles': 'pubmed/21909074; pubmed/18923394; pubmed/11057674; pubmed/22405009'}]\n",
      "\n"
     ]
    }
   ],
   "source": [
    "for prot in protein:\n",
    "    prot_name=prot['prot_name']\n",
    "    bp_results=prot2mf(prot_name)\n",
    "    print(f\"Protein {prot_name}\")\n",
    "    print(f\"Biological process: {bp_results}\\n\")"
   ]
  },
  {
   "cell_type": "code",
   "execution_count": 16,
   "id": "de444f66-c46f-49a9-b824-ccd4b1193010",
   "metadata": {},
   "outputs": [
    {
     "data": {
      "text/plain": [
       "'No data available for the introduced gene or you may have introduced an instance is not a gene. Check your data type with type_data function'"
      ]
     },
     "execution_count": 16,
     "metadata": {},
     "output_type": "execute_result"
    }
   ],
   "source": [
    "gene2phen(\"CXCL9\")"
   ]
  },
  {
   "cell_type": "code",
   "execution_count": 4,
   "id": "e8cc6445-ff52-49d7-89da-6954ad06adc5",
   "metadata": {},
   "outputs": [
    {
     "data": {
      "text/plain": [
       "[{'omim_id': '613282', 'label': 'NAFLD1'},\n",
       " {'omim_id': '613387', 'label': 'NAFLD2'}]"
      ]
     },
     "execution_count": 4,
     "metadata": {},
     "output_type": "execute_result"
    }
   ],
   "source": [
    "getPhenotype(\"NAFLD\")"
   ]
  },
  {
   "cell_type": "code",
   "execution_count": 5,
   "id": "41083f1c-5b49-4949-8c3e-976b816604b1",
   "metadata": {},
   "outputs": [
    {
     "data": {
      "text/plain": [
       "[{'gene_name': 'PNPLA3'}]"
      ]
     },
     "execution_count": 5,
     "metadata": {},
     "output_type": "execute_result"
    }
   ],
   "source": [
    "phen2gene(\"nafld\")"
   ]
  }
 ],
 "metadata": {
  "kernelspec": {
   "display_name": "Python3.8",
   "language": "python",
   "name": "python3.8"
  },
  "language_info": {
   "codemirror_mode": {
    "name": "ipython",
    "version": 3
   },
   "file_extension": ".py",
   "mimetype": "text/x-python",
   "name": "python",
   "nbconvert_exporter": "python",
   "pygments_lexer": "ipython3",
   "version": "3.8.3"
  }
 },
 "nbformat": 4,
 "nbformat_minor": 5
}
